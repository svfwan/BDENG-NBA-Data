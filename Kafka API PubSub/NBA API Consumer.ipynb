{
 "cells": [
  {
   "cell_type": "code",
   "execution_count": null,
   "id": "78997895-8e8c-4f13-bae8-fb1f79ac6007",
   "metadata": {
    "tags": []
   },
   "outputs": [],
   "source": [
    "from kafka import KafkaConsumer\n",
    "import json"
   ]
  },
  {
   "cell_type": "code",
   "execution_count": null,
   "id": "d9945e40-c5e2-4424-9b18-108926650d75",
   "metadata": {
    "tags": []
   },
   "outputs": [],
   "source": [
    "# Initialize Kafka Consumer\n",
    "bootstrap_servers = 'kafka:9092'\n",
    "topic_name = 'NBA-API-Data'\n",
    "consumer = KafkaConsumer(topic_name, bootstrap_servers=bootstrap_servers, value_deserializer=lambda x: json.loads(x.decode('utf-8')))"
   ]
  },
  {
   "cell_type": "code",
   "execution_count": null,
   "id": "900d6331-f2d2-49f7-b019-05e7857ab9dd",
   "metadata": {
    "tags": []
   },
   "outputs": [],
   "source": [
    "for message in consumer:\n",
    "    data = message.value\n",
    "    player_id = data['player_details']['id']\n",
    "    season_stats = data['season_stats']\n",
    "    for season_data in season_stats:\n",
    "        season = season_data['season']\n",
    "        print(f\"Player ID: {player_id}\")\n",
    "        print(f\"Season: {season}\")\n",
    "        print(\"-----------------------\")\n",
    "\n",
    "consumer.close()"
   ]
  },
  {
   "cell_type": "code",
   "execution_count": null,
   "id": "941bb99d-3915-4d90-83a5-14875994704e",
   "metadata": {},
   "outputs": [],
   "source": []
  }
 ],
 "metadata": {
  "kernelspec": {
   "display_name": "Python 3 (ipykernel)",
   "language": "python",
   "name": "python3"
  },
  "language_info": {
   "codemirror_mode": {
    "name": "ipython",
    "version": 3
   },
   "file_extension": ".py",
   "mimetype": "text/x-python",
   "name": "python",
   "nbconvert_exporter": "python",
   "pygments_lexer": "ipython3",
   "version": "3.10.10"
  }
 },
 "nbformat": 4,
 "nbformat_minor": 5
}
