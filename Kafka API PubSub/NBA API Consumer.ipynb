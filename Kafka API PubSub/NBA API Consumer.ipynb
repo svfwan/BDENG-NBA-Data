{
 "cells": [
  {
   "cell_type": "code",
   "execution_count": 1,
   "id": "3a75b7ca-1824-4728-86aa-f2d8ea522da5",
   "metadata": {
    "tags": []
   },
   "outputs": [],
   "source": [
    "#!pip install pymongo\n",
    "# uncomment this if pymongo not installed in your environment"
   ]
  },
  {
   "cell_type": "code",
   "execution_count": null,
   "id": "78997895-8e8c-4f13-bae8-fb1f79ac6007",
   "metadata": {
    "tags": []
   },
   "outputs": [],
   "source": [
    "from kafka import KafkaConsumer\n",
    "import json\n",
    "import pymongo as mdb"
   ]
  },
  {
   "cell_type": "code",
   "execution_count": null,
   "id": "d9945e40-c5e2-4424-9b18-108926650d75",
   "metadata": {
    "tags": []
   },
   "outputs": [],
   "source": [
    "# Initialize Kafka Consumer\n",
    "bootstrap_servers = 'kafka:9092'\n",
    "topic_name = 'nba-API-data'\n",
    "consumer = KafkaConsumer(topic_name, bootstrap_servers=bootstrap_servers, value_deserializer=lambda x: json.loads(x.decode('utf-8')))"
   ]
  },
  {
   "cell_type": "code",
   "execution_count": null,
   "id": "900d6331-f2d2-49f7-b019-05e7857ab9dd",
   "metadata": {
    "tags": []
   },
   "outputs": [],
   "source": [
    "# Initialize MongoDB client and database\n",
    "client = mdb.MongoClient(\"mongodb://pt-n20.p4001.w3.cs.technikum-wien.at:4001\")\n",
    "db = client.nba_data\n",
    "collection = db.season_stats_api"
   ]
  },
  {
   "cell_type": "code",
   "execution_count": null,
   "id": "941bb99d-3915-4d90-83a5-14875994704e",
   "metadata": {},
   "outputs": [],
   "source": [
    "for message in consumer:\n",
    "    data = message.value\n",
    "    player_id = data['id']\n",
    "    full_name = data['full_name']\n",
    "    season = data['season']\n",
    "    season_stats = data['season_stats']\n",
    "\n",
    "    # Check if the document already exists\n",
    "    existing_doc = collection.find_one({\n",
    "        'player_id': player_id,\n",
    "        'full_name': full_name,\n",
    "        'season': season\n",
    "    })\n",
    "\n",
    "    if existing_doc is None:\n",
    "        # Insert the document into MongoDB\n",
    "        doc = {\n",
    "            'player_id': player_id,\n",
    "            'full_name': full_name,\n",
    "            'season': season,\n",
    "            'season_stats': season_stats\n",
    "        }\n",
    "        collection.insert_one(doc)\n",
    "        print(f\"Inserted {player_id} - Season {season}\")\n",
    "    else:\n",
    "        print(\"Skipped\")"
   ]
  },
  {
   "cell_type": "code",
   "execution_count": null,
   "id": "edffa739-e902-4ff0-b1ab-b53a74104681",
   "metadata": {
    "tags": []
   },
   "outputs": [],
   "source": [
    "consumer.close()"
   ]
  },
  {
   "cell_type": "code",
   "execution_count": null,
   "id": "692a9ae8-23d0-435e-b0fd-bf1d13dc7db5",
   "metadata": {},
   "outputs": [],
   "source": [
    "mongo_client.close()"
   ]
  }
 ],
 "metadata": {
  "kernelspec": {
   "display_name": "Python 3 (ipykernel)",
   "language": "python",
   "name": "python3"
  },
  "language_info": {
   "codemirror_mode": {
    "name": "ipython",
    "version": 3
   },
   "file_extension": ".py",
   "mimetype": "text/x-python",
   "name": "python",
   "nbconvert_exporter": "python",
   "pygments_lexer": "ipython3",
   "version": "3.10.10"
  }
 },
 "nbformat": 4,
 "nbformat_minor": 5
}
