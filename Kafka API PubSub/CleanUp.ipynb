{
 "cells": [
  {
   "cell_type": "code",
   "execution_count": 3,
   "id": "92437742-7525-4651-887f-0a67129cf71c",
   "metadata": {
    "tags": []
   },
   "outputs": [
    {
     "name": "stdout",
     "output_type": "stream",
     "text": [
      "Topics Deleted Successfully\n"
     ]
    }
   ],
   "source": [
    "from kafka.admin import KafkaAdminClient\n",
    "from kafka.errors import UnknownTopicOrPartitionError\n",
    "\n",
    "admin_client = KafkaAdminClient(bootstrap_servers=['kafka:9092'])\n",
    "\n",
    "# hier aufpassen welche Namen man eingibt\n",
    "topic_names = [\n",
    "    'NBA_API_TOPIC',\n",
    "    'nba-API-data',\n",
    "    'NBA-API-Data',\n",
    "    'nba-API-data-2',\n",
    "    'nba-API-data-final',\n",
    "    'nba-API-topic',\n",
    "    'nba-data-check',\n",
    "    'NBA-SeasonStats-API',\n",
    "    'nbaStats'\n",
    "]\n",
    "\n",
    "def delete_topics(topic_names):\n",
    "    try:\n",
    "        admin_client.delete_topics(topics=topic_names)\n",
    "        print(\"Topics Deleted Successfully\")\n",
    "    except UnknownTopicOrPartitionError as e:\n",
    "        print(\"Topics Don't Exist\")\n",
    "    except Exception as e:\n",
    "        print(e)\n",
    "\n",
    "#delete_topics(topic_names)"
   ]
  },
  {
   "cell_type": "code",
   "execution_count": null,
   "id": "00bf5176-e02c-4a30-b5e3-7a5e0df7e8cc",
   "metadata": {},
   "outputs": [],
   "source": []
  }
 ],
 "metadata": {
  "kernelspec": {
   "display_name": "Python 3 (ipykernel)",
   "language": "python",
   "name": "python3"
  },
  "language_info": {
   "codemirror_mode": {
    "name": "ipython",
    "version": 3
   },
   "file_extension": ".py",
   "mimetype": "text/x-python",
   "name": "python",
   "nbconvert_exporter": "python",
   "pygments_lexer": "ipython3",
   "version": "3.10.10"
  }
 },
 "nbformat": 4,
 "nbformat_minor": 5
}
