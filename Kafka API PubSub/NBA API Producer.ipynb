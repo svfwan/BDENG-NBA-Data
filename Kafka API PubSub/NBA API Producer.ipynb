{
 "cells": [
  {
   "cell_type": "code",
   "execution_count": null,
   "id": "399252f4-2ef8-4daf-8894-47d6e47b664d",
   "metadata": {
    "tags": []
   },
   "outputs": [],
   "source": [
    "import requests\n",
    "from kafka import KafkaProducer\n",
    "import json\n",
    "import time"
   ]
  },
  {
   "cell_type": "code",
   "execution_count": null,
   "id": "20fc7c9b-e7f9-42de-b713-00caf3c9564b",
   "metadata": {
    "tags": []
   },
   "outputs": [],
   "source": [
    "bootstrap_servers = 'kafka:9092'\n",
    "topic_name = 'nba-API-data'\n",
    "producer = KafkaProducer(bootstrap_servers=bootstrap_servers, value_serializer=lambda x: json.dumps(x).encode('utf-8'))"
   ]
  },
  {
   "cell_type": "code",
   "execution_count": null,
   "id": "33dd9fc6-3e40-4630-a1ce-b33bfd231687",
   "metadata": {
    "tags": []
   },
   "outputs": [],
   "source": [
    "base_url = 'https://www.balldontlie.io/api/v1'\n",
    "seasons = [1995, 1996, 1997, 2005, 2006, 2007, 2011, 2012, 2013]"
   ]
  },
  {
   "cell_type": "code",
   "execution_count": null,
   "id": "e1f2a660-e06d-4c38-b9b9-99d96070ccb6",
   "metadata": {
    "tags": []
   },
   "outputs": [],
   "source": [
    "def get_players():\n",
    "    for player_id in range(100, 200):\n",
    "        for season in seasons:\n",
    "            player_details = {\n",
    "                'id': player_id,\n",
    "                'first_name': None,  # Placeholder for first name\n",
    "                'last_name': None  # Placeholder for last name\n",
    "            }\n",
    "            \n",
    "            retries = 0\n",
    "            max_retries = 5\n",
    "            \n",
    "            while True:\n",
    "                player_url = f'{base_url}/players/{player_id}'\n",
    "                response = requests.get(player_url)\n",
    "                \n",
    "                if response.status_code == 200:\n",
    "                    player_data = response.json()\n",
    "                    if 'first_name' in player_data:\n",
    "                        player_details['first_name'] = player_data['first_name']\n",
    "                    if 'last_name' in player_data:\n",
    "                        player_details['last_name'] = player_data['last_name']\n",
    "                    break  # Break the while loop if the response code is 200\n",
    "                else:\n",
    "                    retries += 1\n",
    "                    if retries > max_retries:\n",
    "                        break  # Break the while loop if maximum retries reached\n",
    "            \n",
    "            yield player_details, season\n",
    "\n",
    "            \n",
    "def get_season_stats(player_id, season):\n",
    "    url = f'{base_url}/season_averages?season={season}&player_ids[]={player_id}'\n",
    "    response = requests.get(url)\n",
    "    \n",
    "    if response.status_code == 200:\n",
    "        try:\n",
    "            season_stats = response.json()\n",
    "            if 'data' in season_stats and season_stats['data']:\n",
    "                return season_stats['data']\n",
    "        except json.JSONDecodeError:\n",
    "            pass\n",
    "    \n",
    "    return None"
   ]
  },
  {
   "cell_type": "code",
   "execution_count": null,
   "id": "cf4503f7-b807-4a65-8644-64160c0e885a",
   "metadata": {
    "tags": []
   },
   "outputs": [],
   "source": [
    "for player_details, season in get_players():\n",
    "    player_id = player_details['id']\n",
    "    player_season_stats = get_season_stats(player_id, season)\n",
    "\n",
    "    if player_season_stats is not None:\n",
    "        full_name = f\"{player_details['first_name']} {player_details['last_name']}\"\n",
    "\n",
    "        player_data = {\n",
    "            'full_name': full_name,\n",
    "            'season': season,\n",
    "            'season_stats': player_season_stats\n",
    "        }\n",
    "        producer.send(topic_name, value=player_data)\n",
    "        \n",
    "        print(f\"Sent: {full_name} - {season}\")\n",
    "\n",
    "print(\"Loop exited\")"
   ]
  },
  {
   "cell_type": "code",
   "execution_count": null,
   "id": "ff79353c-349c-4dc9-8e2f-996de72f7766",
   "metadata": {},
   "outputs": [],
   "source": [
    "producer.flush()\n",
    "producer.close()"
   ]
  }
 ],
 "metadata": {
  "kernelspec": {
   "display_name": "Python 3 (ipykernel)",
   "language": "python",
   "name": "python3"
  },
  "language_info": {
   "codemirror_mode": {
    "name": "ipython",
    "version": 3
   },
   "file_extension": ".py",
   "mimetype": "text/x-python",
   "name": "python",
   "nbconvert_exporter": "python",
   "pygments_lexer": "ipython3",
   "version": "3.10.10"
  }
 },
 "nbformat": 4,
 "nbformat_minor": 5
}
