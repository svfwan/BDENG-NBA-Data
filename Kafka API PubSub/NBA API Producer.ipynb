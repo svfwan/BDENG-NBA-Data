{
 "cells": [
  {
   "cell_type": "markdown",
   "id": "4e1211a5",
   "metadata": {},
   "source": [
    "# API Data"
   ]
  },
  {
   "cell_type": "markdown",
   "id": "2739f930",
   "metadata": {},
   "source": [
    "For getting our API data and producing it for our consumers we send specific requests to our API based on the player ID and the season paramater.\n",
    "We made use of the KafkaProducer object and simply send the raw data (with minimal changes) that we receive per request to the Kafka broker:"
   ]
  },
  {
   "cell_type": "code",
   "execution_count": null,
   "id": "d5c221b7",
   "metadata": {
    "tags": []
   },
   "outputs": [],
   "source": [
    "import requests\n",
    "import json\n",
    "import time"
   ]
  },
  {
   "cell_type": "code",
   "execution_count": null,
   "id": "6285184d",
   "metadata": {
    "tags": []
   },
   "outputs": [],
   "source": [
    "from kafka import KafkaProducer"
   ]
  },
  {
   "cell_type": "code",
   "execution_count": null,
   "id": "dcdf4fb7",
   "metadata": {
    "tags": []
   },
   "outputs": [],
   "source": [
    "bootstrap_servers = 'kafka:9092'\n",
    "topic_name = 'NBA-API-TOPIC'\n",
    "producer = KafkaProducer(bootstrap_servers=bootstrap_servers, value_serializer=lambda x: json.dumps(x).encode('utf-8'))"
   ]
  },
  {
   "cell_type": "markdown",
   "id": "ac1d45a3",
   "metadata": {},
   "source": [
    "We pre-define the URL of the API and the seasons we want to look at so that we do not send unreasonable amount of requests:"
   ]
  },
  {
   "cell_type": "code",
   "execution_count": null,
   "id": "02a61c07",
   "metadata": {
    "tags": []
   },
   "outputs": [],
   "source": [
    "base_url = 'https://www.balldontlie.io/api/v1'\n",
    "seasons = [1995, 1996, 1997, 2005, 2006, 2007, 2011, 2012, 2013]"
   ]
  },
  {
   "cell_type": "code",
   "execution_count": null,
   "id": "92470dc3",
   "metadata": {
    "tags": []
   },
   "outputs": [],
   "source": [
    "def get_players():\n",
    "    for player_id in range(3093):\n",
    "        for season in seasons:\n",
    "            player_details = {\n",
    "                'id': player_id,\n",
    "                'first_name': None,  # Placeholder for first name\n",
    "                'last_name': None  # Placeholder for last name\n",
    "            }\n",
    "            \n",
    "            retries = 0\n",
    "            max_retries = 5\n",
    "            \n",
    "            while True:\n",
    "                player_url = f'{base_url}/players/{player_id}'\n",
    "                response = requests.get(player_url)\n",
    "                \n",
    "                if response.status_code == 200:\n",
    "                    player_data = response.json()\n",
    "                    if 'first_name' in player_data:\n",
    "                        player_details['first_name'] = player_data['first_name']\n",
    "                    if 'last_name' in player_data:\n",
    "                        player_details['last_name'] = player_data['last_name']\n",
    "                    break  # Break the while loop if the response code is 200\n",
    "                else:\n",
    "                    retries += 1\n",
    "                    if retries > max_retries:\n",
    "                        break  # Break the while loop if maximum retries reached\n",
    "            \n",
    "            yield player_details, season\n",
    "\n",
    "            \n",
    "def get_season_stats(player_id, season):\n",
    "    url = f'{base_url}/season_averages?season={season}&player_ids[]={player_id}'\n",
    "    response = requests.get(url)\n",
    "    \n",
    "    if response.status_code == 200:\n",
    "        try:\n",
    "            season_stats = response.json()\n",
    "            if 'data' in season_stats and season_stats['data']:\n",
    "                return season_stats['data']\n",
    "        except json.JSONDecodeError:\n",
    "            pass\n",
    "    \n",
    "    return None"
   ]
  },
  {
   "cell_type": "markdown",
   "id": "26ababdf",
   "metadata": {},
   "source": [
    "In this code block below we iterate over each player and then the seasons to get all possible data for the players and seasons we are interested in and then we simply send that data to our Kafka broker:"
   ]
  },
  {
   "cell_type": "code",
   "execution_count": null,
   "id": "ff875532",
   "metadata": {
    "tags": []
   },
   "outputs": [],
   "source": [
    "for player_details, season in get_players():\n",
    "    player_id = player_details['id']\n",
    "    player_season_stats = get_season_stats(player_id, season)\n",
    "\n",
    "    if player_season_stats is not None:\n",
    "        full_name = f\"{player_details['first_name']} {player_details['last_name']}\"\n",
    "\n",
    "        player_data = {\n",
    "            'full_name': full_name,\n",
    "            **player_season_stats[0]\n",
    "        }\n",
    "        print(player_data)\n",
    "        #producer.send(topic_name, value=player_data)\n",
    "        \n",
    "        print(f\"Sent: {player_id} - {full_name} - {season}\")\n",
    "\n",
    "#producer.flush()\n",
    "#producer.close()"
   ]
  },
  {
   "cell_type": "code",
   "execution_count": null,
   "id": "645dfb37",
   "metadata": {},
   "outputs": [],
   "source": []
  }
 ],
 "metadata": {
  "kernelspec": {
   "display_name": "Python 3 (ipykernel)",
   "language": "python",
   "name": "python3"
  },
  "language_info": {
   "codemirror_mode": {
    "name": "ipython",
    "version": 3
   },
   "file_extension": ".py",
   "mimetype": "text/x-python",
   "name": "python",
   "nbconvert_exporter": "python",
   "pygments_lexer": "ipython3",
   "version": "3.10.10"
  }
 },
 "nbformat": 4,
 "nbformat_minor": 5
}
