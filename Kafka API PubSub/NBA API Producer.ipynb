{
 "cells": [
  {
   "cell_type": "code",
   "execution_count": null,
   "id": "2fa06935-d929-47b8-8a3a-b580d47f1956",
   "metadata": {
    "tags": []
   },
   "outputs": [],
   "source": [
    "import requests\n",
    "from kafka import KafkaProducer\n",
    "import json\n",
    "import time"
   ]
  },
  {
   "cell_type": "code",
   "execution_count": null,
   "id": "065a92b2-3247-4ef5-b22f-d25933a286eb",
   "metadata": {
    "tags": []
   },
   "outputs": [],
   "source": [
    "bootstrap_servers = 'kafka:9092'\n",
    "topic_name = 'NBA-API-Data'\n",
    "producer = KafkaProducer(bootstrap_servers=bootstrap_servers, value_serializer=lambda x: json.dumps(x).encode('utf-8'))"
   ]
  },
  {
   "cell_type": "code",
   "execution_count": null,
   "id": "9ae96112-f24c-4914-ad26-13d0afaea88f",
   "metadata": {
    "tags": []
   },
   "outputs": [],
   "source": [
    "# Define API URLs and Seasons\n",
    "base_url = 'https://www.balldontlie.io/api/v1'\n",
    "seasons = ['1996','1997', '1998', '2007', '2008', '2009', '2011', '2012', '2013']"
   ]
  },
  {
   "cell_type": "code",
   "execution_count": null,
   "id": "9fc9869b-c2ac-4453-b544-8c12629869de",
   "metadata": {
    "tags": []
   },
   "outputs": [],
   "source": [
    "def get_players():\n",
    "    players_url = f'{base_url}/players'\n",
    "    page = 0\n",
    "    while True:\n",
    "        params = {\n",
    "            'page': page,\n",
    "            'per_page': 100  # Increase per_page to retrieve more players per API call\n",
    "        }\n",
    "        response = requests.get(players_url, params=params)\n",
    "        players_data = response.json()\n",
    "\n",
    "        # Break the loop if no more players\n",
    "        if not players_data['data']:\n",
    "            break\n",
    "\n",
    "        for player in players_data['data']:\n",
    "            player_id = player['id']\n",
    "            player_details = {\n",
    "                'id': player_id,\n",
    "                'first_name': player['first_name'],\n",
    "                'last_name': player['last_name']\n",
    "            }\n",
    "            yield player_details\n",
    "\n",
    "        # Increment the page number for the next iteration\n",
    "        page += 1\n",
    "\n",
    "def get_season_stats(player_id):\n",
    "    player_season_stats = {}\n",
    "    for season in seasons:\n",
    "        url = f'{base_url}/season_averages?season={season}&player_ids[]={player_id}'\n",
    "        response = requests.get(url)\n",
    "        try:\n",
    "            season_stats = response.json()\n",
    "            if 'data' in season_stats and season_stats['data']:\n",
    "                player_season_stats[season] = season_stats['data']\n",
    "        except json.JSONDecodeError:\n",
    "            continue\n",
    "    \n",
    "    return player_season_stats"
   ]
  },
  {
   "cell_type": "code",
   "execution_count": null,
   "id": "7094130e-f8e3-4ba7-a668-f717d705c40a",
   "metadata": {
    "tags": []
   },
   "outputs": [],
   "source": [
    "for player_details in get_players():\n",
    "    player_id = player_details['id']\n",
    "    player_season_stats = get_season_stats(player_id)\n",
    "\n",
    "    player_data = {\n",
    "        'player_details': player_details,\n",
    "        'season_stats': player_season_stats\n",
    "    }\n",
    "    producer.send(topic_name, value=player_data)\n",
    "    time.sleep(3)\n",
    "\n",
    "producer.flush()\n",
    "producer.close()"
   ]
  },
  {
   "cell_type": "code",
   "execution_count": null,
   "id": "c85a5cb0-0ab3-49a6-9953-1111ffaaec4b",
   "metadata": {},
   "outputs": [],
   "source": [
    "import requests\n",
    "from kafka import KafkaProducer\n",
    "import json\n",
    "import time\n",
    "\n",
    "bootstrap_servers = 'kafka:9092'\n",
    "topic_name = 'NBA-API-Data'\n",
    "producer = KafkaProducer(bootstrap_servers=bootstrap_servers, value_serializer=lambda x: json.dumps(x).encode('utf-8'))\n",
    "\n",
    "# Define API URLs and Seasons\n",
    "base_url = 'https://www.balldontlie.io/api/v1'\n",
    "seasons = ['1996','1997', '1998', '2007', '2008', '2009', '2011', '2012', '2013']\n",
    "\n",
    "def get_players():\n",
    "    players_url = f'{base_url}/players'\n",
    "    page = 0\n",
    "    while True:\n",
    "        params = {\n",
    "            'page': page,\n",
    "            'per_page': 100  # Increase per_page to retrieve more players per API call\n",
    "        }\n",
    "        response = requests.get(players_url, params=params)\n",
    "        players_data = response.json()\n",
    "\n",
    "        # Break the loop if no more players\n",
    "        if not players_data['data']:\n",
    "            break\n",
    "\n",
    "        for player in players_data['data']:\n",
    "            player_id = player['id']\n",
    "            player_details = {\n",
    "                'id': player_id,\n",
    "                'first_name': player['first_name'],\n",
    "                'last_name': player['last_name']\n",
    "            }\n",
    "            yield player_details\n",
    "\n",
    "        # Increment the page number for the next iteration\n",
    "        page += 1\n",
    "\n",
    "def get_season_stats(player_id):\n",
    "    player_season_stats = {}\n",
    "    for season in seasons:\n",
    "        url = f'{base_url}/season_averages?season={season}&player_ids[]={player_id}'\n",
    "        response = requests.get(url)\n",
    "        try:\n",
    "            season_stats = response.json()\n",
    "            if 'data' in season_stats and season_stats['data']:\n",
    "                player_season_stats[season] = season_stats['data']\n",
    "        except json.JSONDecodeError:\n",
    "            continue\n",
    "    \n",
    "    return player_season_stats\n",
    "\n",
    "for player_details in get_players():\n",
    "    player_id = player_details['id']\n",
    "    player_season_stats = get_season_stats(player_id)\n",
    "\n",
    "    player_data = {\n",
    "        'player_details': player_details,\n",
    "        'season_stats': player_season_stats\n",
    "    }\n",
    "    producer.send(topic_name, value=player_data)\n",
    "    time.sleep(3)\n",
    "\n",
    "producer.flush()\n",
    "producer.close()"
   ]
  }
 ],
 "metadata": {
  "kernelspec": {
   "display_name": "Python 3 (ipykernel)",
   "language": "python",
   "name": "python3"
  },
  "language_info": {
   "codemirror_mode": {
    "name": "ipython",
    "version": 3
   },
   "file_extension": ".py",
   "mimetype": "text/x-python",
   "name": "python",
   "nbconvert_exporter": "python",
   "pygments_lexer": "ipython3",
   "version": "3.10.10"
  }
 },
 "nbformat": 4,
 "nbformat_minor": 5
}
