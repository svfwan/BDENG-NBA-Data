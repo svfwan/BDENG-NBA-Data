{
 "cells": [
  {
   "cell_type": "code",
   "execution_count": 1,
   "id": "d7b8da44-1bce-4787-acdd-c694268868f1",
   "metadata": {
    "tags": []
   },
   "outputs": [],
   "source": [
    "#!pip install selenium webdriver_manager\n"
   ]
  },
  {
   "cell_type": "code",
   "execution_count": 100,
   "id": "3c193f68-9cb9-48d3-b354-ba31c0560c11",
   "metadata": {
    "tags": []
   },
   "outputs": [],
   "source": [
    "import csv\n",
    "import os\n",
    "from selenium import webdriver\n",
    "from selenium.webdriver.chrome.service import Service\n",
    "from selenium.webdriver.common.by import By\n",
    "from selenium.webdriver.support.ui import WebDriverWait\n",
    "from selenium.webdriver.support import expected_conditions as EC\n",
    "from selenium.webdriver.support.ui import Select\n",
    "from selenium.common.exceptions import NoSuchElementException\n",
    "import time"
   ]
  },
  {
   "cell_type": "code",
   "execution_count": 101,
   "id": "83ea4524",
   "metadata": {
    "collapsed": false,
    "jupyter": {
     "outputs_hidden": false
    }
   },
   "outputs": [
    {
     "data": {
      "text/plain": [
       "True"
      ]
     },
     "execution_count": 101,
     "metadata": {},
     "output_type": "execute_result"
    }
   ],
   "source": [
    "driver = webdriver.Chrome(service=Service(ChromeDriverManager().install()))\n",
    "\n",
    "driver.get(\"https://www.nba.com/stats/players/traditional?Season=1998-99&SeasonType=Regular+Season\")\n",
    "\n",
    "continue_button = driver.find_element(By.CLASS_NAME, \"onetrust-close-btn-handler\")\n",
    "continue_button.click()\n",
    "\n",
    "wait = WebDriverWait(driver, 10)\n",
    "wait.until(EC.staleness_of(continue_button))"
   ]
  },
  {
   "cell_type": "code",
   "execution_count": 2,
   "id": "c34c2223",
   "metadata": {
    "collapsed": false,
    "jupyter": {
     "outputs_hidden": false
    },
    "tags": []
   },
   "outputs": [],
   "source": [
    "def data_nba_season(season):\n",
    "    try:\n",
    "        option_all = select_element.find_element(By.XPATH, \"//option[text()='All']\")\n",
    "        option_all.click()\n",
    "    except NoSuchElementException:\n",
    "        print(\"The 'All' option could not be found.\")\n",
    "\n",
    "    # Find the table rows\n",
    "    rows = driver.find_elements(By.XPATH, \"//table[@class='Crom_table__p1iZz']//tbody//tr\")\n",
    "\n",
    "    data = []\n",
    "\n",
    "    # Iterate over each row and retrieve the values of all columns\n",
    "    for row in rows:\n",
    "        columns = row.find_elements(By.TAG_NAME, \"td\")\n",
    "        row_data = {\n",
    "            'PLAYER_NAME': columns[1].text,\n",
    "            'TEAM_ABBREVIATION': columns[2].text,\n",
    "            'AGE': columns[3].text,\n",
    "            'GP': columns[4].text,\n",
    "            'W': columns[5].text,\n",
    "            'L': columns[6].text,\n",
    "            'MIN': columns[7].text,\n",
    "            'PTS': columns[8].text,\n",
    "            'FGM': columns[9].text,\n",
    "            'FGA': columns[10].text,\n",
    "            'FG_PCT': columns[11].text,\n",
    "            'FG3M': columns[12].text,\n",
    "            'FG3A': columns[13].text,\n",
    "            'FG3_PCT': columns[14].text,\n",
    "            'FTM': columns[15].text,\n",
    "            'FTA': columns[16].text,\n",
    "            'FT_PCT': columns[17].text,\n",
    "            'OREB': columns[18].text,\n",
    "            'DREB': columns[19].text,\n",
    "            'REB': columns[20].text,\n",
    "            'AST': columns[21].text,\n",
    "            'TOV': columns[22].text,\n",
    "            'STL': columns[23].text,\n",
    "            'BLK': columns[24].text,\n",
    "            'PF': columns[25].text,\n",
    "            'NBA_FANTASY_PTS': columns[26].text,\n",
    "            'DD2': columns[27].text,\n",
    "            'TD3': columns[28].text,\n",
    "            'PLUS_MINUS': columns[29].text\n",
    "        }\n",
    "        data.append(row_data)\n",
    "\n",
    "    # Save the retrieved data in a CSV file\n",
    "    filename = \"./Data/\" +season + \".csv\"\n",
    "    fieldnames = list(data[0].keys())\n",
    "\n",
    "    if not os.path.exists(filename):\n",
    "        with open(filename, 'w', newline='') as file:\n",
    "            writer = csv.DictWriter(file, fieldnames=fieldnames)\n",
    "            writer.writeheader()\n",
    "\n",
    "    with open(filename, 'a', newline='') as file:\n",
    "        writer = csv.DictWriter(file, fieldnames=fieldnames)\n",
    "        writer.writerows(data)\n",
    "\n",
    "    return \"Data saved \" + filename + \" successfully\"\n"
   ]
  },
  {
   "cell_type": "code",
   "execution_count": 118,
   "id": "bc314699",
   "metadata": {
    "collapsed": false,
    "jupyter": {
     "outputs_hidden": false
    }
   },
   "outputs": [
    {
     "data": {
      "text/plain": [
       "'Data saved 1996.csv successfully'"
      ]
     },
     "execution_count": 118,
     "metadata": {},
     "output_type": "execute_result"
    }
   ],
   "source": [
    "saison = \"1996\"\n",
    "select_element = driver.find_element(By.CLASS_NAME, \"DropDown_select__4pIg9\")\n",
    "select = Select(select_element)\n",
    "\n",
    "select.select_by_value(\"1996-97\")\n",
    "\n",
    "time.sleep(1)\n",
    "data_nba_season(saison)"
   ]
  },
  {
   "cell_type": "code",
   "execution_count": 119,
   "id": "6dba42eb",
   "metadata": {
    "collapsed": false,
    "jupyter": {
     "outputs_hidden": false
    }
   },
   "outputs": [
    {
     "data": {
      "text/plain": [
       "'Data saved 1997.csv successfully'"
      ]
     },
     "execution_count": 119,
     "metadata": {},
     "output_type": "execute_result"
    }
   ],
   "source": [
    "saison = \"1997\"\n",
    "select_element = driver.find_element(By.CLASS_NAME, \"DropDown_select__4pIg9\")\n",
    "select = Select(select_element)\n",
    "\n",
    "select.select_by_value(\"1997-98\")\n",
    "\n",
    "time.sleep(1)\n",
    "data_nba_season(saison)"
   ]
  },
  {
   "cell_type": "code",
   "execution_count": 120,
   "id": "19c7b578",
   "metadata": {
    "collapsed": false,
    "jupyter": {
     "outputs_hidden": false
    }
   },
   "outputs": [
    {
     "data": {
      "text/plain": [
       "'Data saved 2005.csv successfully'"
      ]
     },
     "execution_count": 120,
     "metadata": {},
     "output_type": "execute_result"
    }
   ],
   "source": [
    "saison = \"2005\"\n",
    "\n",
    "select_element = driver.find_element(By.CLASS_NAME, \"DropDown_select__4pIg9\")\n",
    "select = Select(select_element)\n",
    "\n",
    "select.select_by_value(\"2005-06\")\n",
    "\n",
    "time.sleep(1)\n",
    "data_nba_season(saison)\n"
   ]
  },
  {
   "cell_type": "code",
   "execution_count": 121,
   "id": "a17de8f7",
   "metadata": {
    "collapsed": false,
    "jupyter": {
     "outputs_hidden": false
    }
   },
   "outputs": [
    {
     "data": {
      "text/plain": [
       "'Data saved 2006.csv successfully'"
      ]
     },
     "execution_count": 121,
     "metadata": {},
     "output_type": "execute_result"
    }
   ],
   "source": [
    "saison = \"2006\"\n",
    "\n",
    "select_element = driver.find_element(By.CLASS_NAME, \"DropDown_select__4pIg9\")\n",
    "select = Select(select_element)\n",
    "\n",
    "select.select_by_value(\"2006-07\")\n",
    "\n",
    "time.sleep(1)\n",
    "data_nba_season(saison)\n"
   ]
  },
  {
   "cell_type": "code",
   "execution_count": 122,
   "id": "220d56f2",
   "metadata": {
    "collapsed": false,
    "jupyter": {
     "outputs_hidden": false
    }
   },
   "outputs": [
    {
     "data": {
      "text/plain": [
       "'Data saved 2007.csv successfully'"
      ]
     },
     "execution_count": 122,
     "metadata": {},
     "output_type": "execute_result"
    }
   ],
   "source": [
    "saison = \"2007\"\n",
    "\n",
    "select_element = driver.find_element(By.CLASS_NAME, \"DropDown_select__4pIg9\")\n",
    "select = Select(select_element)\n",
    "\n",
    "select.select_by_value(\"2007-08\")\n",
    "\n",
    "time.sleep(1)\n",
    "data_nba_season(saison)\n"
   ]
  },
  {
   "cell_type": "code",
   "execution_count": 123,
   "id": "3d27c28d",
   "metadata": {
    "collapsed": false,
    "jupyter": {
     "outputs_hidden": false
    }
   },
   "outputs": [
    {
     "data": {
      "text/plain": [
       "'Data saved 2011.csv successfully'"
      ]
     },
     "execution_count": 123,
     "metadata": {},
     "output_type": "execute_result"
    }
   ],
   "source": [
    "saison = \"2011\"\n",
    "\n",
    "select_element = driver.find_element(By.CLASS_NAME, \"DropDown_select__4pIg9\")\n",
    "select = Select(select_element)\n",
    "\n",
    "select.select_by_value(\"2011-12\")\n",
    "\n",
    "time.sleep(1)\n",
    "data_nba_season(saison)\n"
   ]
  },
  {
   "cell_type": "code",
   "execution_count": 124,
   "id": "d67190cb",
   "metadata": {
    "collapsed": false,
    "jupyter": {
     "outputs_hidden": false
    }
   },
   "outputs": [
    {
     "data": {
      "text/plain": [
       "'Data saved 2012.csv successfully'"
      ]
     },
     "execution_count": 124,
     "metadata": {},
     "output_type": "execute_result"
    }
   ],
   "source": [
    "saison = \"2012\"\n",
    "\n",
    "select_element = driver.find_element(By.CLASS_NAME, \"DropDown_select__4pIg9\")\n",
    "select = Select(select_element)\n",
    "\n",
    "select.select_by_value(\"2012-13\")\n",
    "\n",
    "time.sleep(1)\n",
    "data_nba_season(saison)\n"
   ]
  },
  {
   "cell_type": "code",
   "execution_count": 125,
   "id": "2bb0aa4e",
   "metadata": {
    "collapsed": false,
    "jupyter": {
     "outputs_hidden": false
    }
   },
   "outputs": [
    {
     "data": {
      "text/plain": [
       "'Data saved 2013.csv successfully'"
      ]
     },
     "execution_count": 125,
     "metadata": {},
     "output_type": "execute_result"
    }
   ],
   "source": [
    "saison = \"2013\"\n",
    "\n",
    "select_element = driver.find_element(By.CLASS_NAME, \"DropDown_select__4pIg9\")\n",
    "select = Select(select_element)\n",
    "\n",
    "select.select_by_value(\"2013-14\")\n",
    "\n",
    "time.sleep(1)\n",
    "data_nba_season(saison)\n"
   ]
  },
  {
   "cell_type": "code",
   "execution_count": null,
   "id": "a4b047f2",
   "metadata": {
    "collapsed": false,
    "jupyter": {
     "outputs_hidden": false
    }
   },
   "outputs": [],
   "source": [
    "driver.quit()"
   ]
  },
  {
   "cell_type": "code",
   "execution_count": null,
   "id": "61898a91",
   "metadata": {
    "collapsed": false,
    "jupyter": {
     "outputs_hidden": false
    }
   },
   "outputs": [],
   "source": []
  }
 ],
 "metadata": {
  "kernelspec": {
   "display_name": "Python 3 (ipykernel)",
   "language": "python",
   "name": "python3"
  },
  "language_info": {
   "codemirror_mode": {
    "name": "ipython",
    "version": 3
   },
   "file_extension": ".py",
   "mimetype": "text/x-python",
   "name": "python",
   "nbconvert_exporter": "python",
   "pygments_lexer": "ipython3",
   "version": "3.10.10"
  }
 },
 "nbformat": 4,
 "nbformat_minor": 5
}
