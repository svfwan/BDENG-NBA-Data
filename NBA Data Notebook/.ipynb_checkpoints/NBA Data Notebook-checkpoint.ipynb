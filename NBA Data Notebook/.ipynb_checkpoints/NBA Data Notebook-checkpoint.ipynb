{
 "cells": [
  {
   "cell_type": "markdown",
   "metadata": {
    "tags": []
   },
   "source": [
    "# Architekturstruktur\n",
    "\n",
    "![Architektur](./BDENG-Project-Architecture.png)\n",
    "\n",
    "## Datenquellen\n",
    "\n",
    "Folgende Datenquellen werden verwendet für unser Projekt:\n",
    "\n",
    "* CSV-Datensatz zu NBA Spielern seit 1950 - [Link](\"https://www.kaggle.com/datasets/drgilermo/nba-players-stats?select=Seasons_Stats.csv\")\n",
    "* NBA Stats Webseite - [Link](\"https://www.nba.com/stats/players/traditional?PerMode=PerGame\")\n",
    "* NBA API \"Ball don't lie\" - [Link](\"https://www.balldontlie.io/home.html#introduction\")\n",
    "\n",
    "Für die Verarbeitung der Datenquellen wird einerseits Kafka als Message Broker verwendet und andererseits Spark, welcher den verarbeiteten Datensatz von Kafka liest. Für die Arbeit wird er Jupyter Lab Server verwendet, welcher uns sowohl Spark, Kafka, als auch die von uns gewählte Datenbankinstanz bereitstellt. Als Versionskontrollensystem wird GitHub verwendet, sodass die Projektmitglieder parallel an dem Projekt arbeiten können und auf dem aktuellsten Stand sind."
   ]
  },
  {
   "cell_type": "code",
   "execution_count": null,
   "metadata": {},
   "outputs": [],
   "source": []
  }
 ],
 "metadata": {
  "kernelspec": {
   "display_name": "Python 3 (ipykernel)",
   "language": "python",
   "name": "python3"
  },
  "language_info": {
   "codemirror_mode": {
    "name": "ipython",
    "version": 3
   },
   "file_extension": ".py",
   "mimetype": "text/x-python",
   "name": "python",
   "nbconvert_exporter": "python",
   "pygments_lexer": "ipython3",
   "version": "3.10.10"
  }
 },
 "nbformat": 4,
 "nbformat_minor": 4
}
