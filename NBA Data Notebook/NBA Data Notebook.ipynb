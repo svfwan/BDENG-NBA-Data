{
 "cells": [
  {
   "cell_type": "markdown",
   "metadata": {
    "tags": []
   },
   "source": [
    "# Architekturstruktur\n",
    "\n",
    "![Architektur](./images/BDENG-Project-Architecture.png)\n",
    "\n",
    "## Datenquellen\n",
    "\n",
    "Folgende Datenquellen werden verwendet für unser Projekt:\n",
    "\n",
    "* CSV-Datensatz zu NBA Spielern seit 1950 - [Link](\"https://www.kaggle.com/datasets/drgilermo/nba-players-stats?select=Seasons_Stats.csv\")\n",
    "* NBA Stats Webseite - [Link](\"https://www.nba.com/stats/players/traditional?PerMode=PerGame\")\n",
    "* NBA API \"Ball don't lie\" - [Link](\"https://www.balldontlie.io/home.html#introduction\")\n",
    "\n",
    "Für die Verarbeitung der Datenquellen wird einerseits Kafka als Message Broker verwendet und andererseits Spark, welcher den verarbeiteten Datensatz von Kafka liest. Für die Arbeit wird er Jupyter Lab Server verwendet, welcher uns sowohl Spark, Kafka, als auch die von uns gewählte Datenbankinstanz bereitstellt. Als Versionskontrollensystem wird GitHub verwendet, sodass die Projektmitglieder parallel an dem Projekt arbeiten können und auf dem aktuellsten Stand sind."
   ]
  },
  {
   "cell_type": "markdown",
   "metadata": {},
   "source": [
    "# NBA Analysis: A Comparison of Michael Jordan, Kobe Bryant and LeBron James at Their Prime"
   ]
  },
  {
   "cell_type": "markdown",
   "metadata": {},
   "source": [
    "## Introduction\n",
    "\n",
    "Our project aims focuses on the age old discussion: Who is the greatest basketball player of all time? By examining their individual statistics at their arguable prime years, we seek to gain insights and compare their achievements on the basketball court. Furthermore, we orchestrated this data science project in a way which focuses on the use of standardised tools and multiple data sources. The challenge is to combine all these and create a valuable insight with the collected and processed data.\n",
    "\n",
    "Our team consists of following members:\n",
    "\n",
    "- Maria Mirnic\n",
    "- Kevin Xhunga\n",
    "- Safwan Zullash"
   ]
  },
  {
   "cell_type": "markdown",
   "metadata": {},
   "source": [
    "## Data Sources\n",
    "\n",
    "We used three different data sources:\n",
    "\n",
    "- \"Ball Don't Lie\" API - [Link](\"https://www.balldontlie.io/home.html#introduction\")\n",
    "- CSV-Data from Kaggle - [Link](\"https://www.kaggle.com/datasets/drgilermo/nba-players-stats?select=Seasons_Stats.csv\")\n",
    "- NBA Stats Website - [Link](\"https://www.nba.com/stats/players/traditional?PerMode=PerGame\")\n",
    "\n",
    "API Data:\n",
    "\n",
    "The data of the API was structured as JSON responses and contained data like this i.e.:\n",
    "\n",
    "![API Data](./images/APIData.png)\n",
    "\n",
    "This was our main data source, since the API tracked and updated the data very regularly and had most of the data we wanted in an already well-formatted structure, which was easy to use and clean. We simply sent requests for all the players that played in the specific prime years of the three players that are in focus and processed the responses.\n",
    "\n",
    "WebScraping:\n",
    "\n",
    "Our second data source was the official website nba.com/stats. To gather the data from this website we used WebScraping. The website looked like this:\n",
    "\n",
    "![Website Data](./images/nbaStatsWebsite.png)\n",
    "\n",
    "\n",
    "CSV Dataset:\n",
    "\n",
    "Our third and last data source was a CSV-file which was available on the popular Data Science website Kaggle. Here we simply picked a CSV-dataset which had the most complete amount of data and some additional stats that were missing from the other two sources. The data inside the file looked like this:\n",
    "\n",
    "![CSV Data](./images/CSVData.png)"
   ]
  },
  {
   "cell_type": "markdown",
   "metadata": {},
   "source": [
    "## Project Architecture, Infrastructure and Environment\n",
    "\n",
    "Here should be the picture of the architecture\n",
    "\n",
    "### Architecture:\n",
    "\n",
    "Our architecture follows a distributed and scalable approach to handle the data processing and analysis tasks. It consists of the following key components:\n",
    "\n",
    "   - Data Sources: We utilize multiple data sources for more complete analysis.\n",
    "\n",
    "   - Kafka: Kafka acts as a central message broker in our architecture. It collects data from the different sources using Kafka producers and stores it in Kafka topics. This allows for decoupling between data producers and consumers, enabling efficient data ingestion and processing.\n",
    "\n",
    "   - Spark: Spark serves as the core processing framework in our architecture. It reads the data from Kafka using Kafka consumers and performs various data manipulation and analysis tasks using Spark DataFrames. Spark's distributed computing capabilities ensure scalability and efficient processing of large-scale NBA season data.\n",
    "\n",
    "   - Database: We utilize a MongoDB database to store the analyzed and transformed data.\n",
    "\n",
    "   - Jupyter Lab: Our project environment includes the Jupyter Lab Server, which is provided by the FH. \n",
    "\n",
    "### Infrastructure:\n",
    "\n",
    "Our infrastructure is designed to support a multi-user environment and enable efficient development and collaboration. It comprises the following components:\n",
    "\n",
    "   - Jupyter Lab Server: We leverage a Jupyter Lab server hosted by the FH (Fachhochschule) to ensure a shared computing environment for the project team. This server provides access to Spark, Kafka, and the selected database instance.\n",
    "\n",
    "   - Docker: We utilize Docker containers to encapsulate our project's dependencies, including Spark, Kafka, and other required libraries and tools. Docker allows for easy deployment and reproducibility of the project environment across different systems.\n",
    "\n",
    "   - Git: We employ Git as our version control system to manage code, track changes, and enable collaborative development. It ensures that all project members have access to the latest code and can work concurrently on different project components.\n",
    "\n",
    "### Environment:\n",
    "\n",
    "Our project environment encompasses the necessary tools, technologies, and configurations to support seamless development, execution, and analysis of the NBA season data. It includes the following aspects:\n",
    "\n",
    "   - Python: We use the Python programming language as the primary language for data processing, analysis, and visualization. Python offers a wide range of libraries and packages, including Pandas, Spark, and visualization libraries like Matplotlib and Plotly.\n",
    "\n",
    "   - Spark Configuration: We configure Spark to leverage the distributed computing capabilities and performance optimizations based on the available system resources.\n",
    "\n",
    "   - Development Workflow: We follow an iterative development workflow, where each team member works on their assigned tasks, utilizes Git for version control, and collaborates through regular code reviews and discussions.\n",
    "\n",
    "   - Documentation: We maintain Jupyter notebooks as our primary documentation format. Each step of the project, including data collection, cleaning, analysis, and visualization, is documented in separate notebooks to ensure clear and concise documentation of the project's progress.\n",
    "\n",
    "By establishing this architecture, infrastructure, and environment, we ensure an efficient, scalable, and collaborative approach to conducting the NBA season analysis project. It provides a solid foundation for data engineering and analysis tasks, enabling us to explore and compare the performances of Kobe Bryant, Michael Jordan, and LeBron James during their prime seasons in the NBA."
   ]
  },
  {
   "cell_type": "code",
   "execution_count": null,
   "metadata": {},
   "outputs": [],
   "source": []
  }
 ],
 "metadata": {
  "kernelspec": {
   "display_name": "Python 3 (ipykernel)",
   "language": "python",
   "name": "python3"
  },
  "language_info": {
   "codemirror_mode": {
    "name": "ipython",
    "version": 3
   },
   "file_extension": ".py",
   "mimetype": "text/x-python",
   "name": "python",
   "nbconvert_exporter": "python",
   "pygments_lexer": "ipython3",
   "version": "3.10.10"
  }
 },
 "nbformat": 4,
 "nbformat_minor": 4
}
