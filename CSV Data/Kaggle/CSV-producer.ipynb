{
 "cells": [
  {
   "cell_type": "code",
   "execution_count": 1,
   "id": "d726131c-7c97-45bf-8f97-28fe6f89c9d5",
   "metadata": {
    "tags": []
   },
   "outputs": [],
   "source": [
    "#Position => Pos in SeaS\n",
    "#Games Started =Y GS in SeaS\n",
    "#Player Efficiency Rating =>PER in SeaS\n",
    "#True Shooting % => TS% in SeaS\n",
    "#Free Throw Rate =>FTR in Seas\n",
    "#Usage Percentage =>USG% in SeaS\n",
    "#Offensive Win Shares =>OWS in SeaS\n",
    "#Defensive Win Shares =>DWS in SeaS\n",
    "#Win Shares => WS in SeaS\n",
    "#Offensive Plus Minus => OBPM in SeaS\n",
    "#Defensive Plus Minus => DBPM in SeaS\n",
    "#2-Point Field Goals =>2P in SeaS\n",
    "#2-Point Field Goals Attempt =>2PA in SeaS\n",
    "#2-Point Field Goals Percentage =>2P% in SeaS\n",
    "#eFG Percentage =>eFG% in SeaS"
   ]
  },
  {
   "cell_type": "code",
   "execution_count": 2,
   "id": "c58c2d5b-cf3a-4461-bbac-69ec2a2cb6bf",
   "metadata": {
    "tags": []
   },
   "outputs": [],
   "source": [
    "import csv\n",
    "from kafka import KafkaProducer\n",
    "import json"
   ]
  },
  {
   "cell_type": "code",
   "execution_count": 3,
   "id": "c0fc8b1a-8836-4282-b3fd-55e7a5e308b1",
   "metadata": {
    "tags": []
   },
   "outputs": [],
   "source": [
    "season_stat_path = './Seasons_Stats.csv'\n",
    "bootstrap_servers = 'kafka:9092'\n",
    "topic_name = 'nba-CSV-data-last'\n",
    "producer = KafkaProducer(bootstrap_servers=bootstrap_servers, value_serializer=lambda x: json.dumps(x).encode('utf-8'))"
   ]
  },
  {
   "cell_type": "code",
   "execution_count": 4,
   "id": "8ad9aa02-ce83-48ac-93e2-b9023c86fa3c",
   "metadata": {
    "tags": []
   },
   "outputs": [],
   "source": [
    "def send_csv_data_to_kafka():\n",
    "    producer = KafkaProducer(\n",
    "        bootstrap_servers=bootstrap_servers,\n",
    "        value_serializer=lambda x: json.dumps(x).encode('utf-8')\n",
    "    )\n",
    "\n",
    "    with open(season_stat_path, 'r') as file:\n",
    "        csv_reader = csv.DictReader(file)\n",
    "        for row in csv_reader:\n",
    "            producer.send(topic_name, value=row)\n",
    "            producer.flush()\n",
    "    producer.close()\n",
    "\n",
    "try:\n",
    "    send_csv_data_to_kafka()\n",
    "except Exception as e:\n",
    "    print(\"Fehler beim Senden der Nachrichten:\", str(e))"
   ]
  },
  {
   "cell_type": "code",
   "execution_count": null,
   "id": "20587ec3-6b90-4e64-bd99-c54e90b2ac88",
   "metadata": {},
   "outputs": [],
   "source": []
  }
 ],
 "metadata": {
  "kernelspec": {
   "display_name": "Python 3 (ipykernel)",
   "language": "python",
   "name": "python3"
  },
  "language_info": {
   "codemirror_mode": {
    "name": "ipython",
    "version": 3
   },
   "file_extension": ".py",
   "mimetype": "text/x-python",
   "name": "python",
   "nbconvert_exporter": "python",
   "pygments_lexer": "ipython3",
   "version": "3.10.10"
  }
 },
 "nbformat": 4,
 "nbformat_minor": 5
}
