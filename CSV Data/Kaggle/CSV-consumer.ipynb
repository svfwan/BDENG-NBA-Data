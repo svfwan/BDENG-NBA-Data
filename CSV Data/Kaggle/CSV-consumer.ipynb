{
 "cells": [
  {
   "cell_type": "code",
   "execution_count": null,
   "id": "7b363f79-b7cd-4d48-a982-6441962c7744",
   "metadata": {
    "pycharm": {
     "is_executing": true
    },
    "tags": []
   },
   "outputs": [],
   "source": [
    "from kafka import KafkaConsumer\n",
    "import json\n",
    "import pymongo as mdb"
   ]
  },
  {
   "cell_type": "code",
   "execution_count": 10,
   "id": "4323a130-3bac-49e1-ad24-8c9f6d881466",
   "metadata": {
    "tags": []
   },
   "outputs": [],
   "source": [
    "# Initialize Kafka Consumer\n",
    "bootstrap_servers = 'kafka:9092'\n",
    "topic_name = 'nba-CSV-data'\n",
    "consumer = KafkaConsumer(topic_name, bootstrap_servers=bootstrap_servers, value_deserializer=lambda x: json.loads(x.decode('utf-8')))"
   ]
  },
  {
   "cell_type": "code",
   "execution_count": 3,
   "id": "1304430f-8612-4f6b-a0bd-79f1e43c4dc6",
   "metadata": {
    "tags": []
   },
   "outputs": [],
   "source": [
    "# Initialize MongoDB client and database\n",
    "client = mdb.MongoClient(\"mongodb://pt-n20.p4001.w3.cs.technikum-wien.at:4001\")\n",
    "db = client.nba_data\n",
    "collection = db.season_stats_csv"
   ]
  },
  {
   "cell_type": "code",
   "execution_count": 4,
   "id": "1086d122-c742-47cc-96f4-ae472eb15ed6",
   "metadata": {
    "tags": []
   },
   "outputs": [
    {
     "data": {
      "text/plain": [
       "\"{'': '24690', 'Year': '2017', 'Player': 'Ivica Zubac', 'Pos': 'C', 'Age': '19', 'Tm': 'LAL',\\n'G': '38', 'GS': '11', 'MP': '609', 'PER': '17', 'TS%': '0.547', '3PAr': '0.013', 'FTr': '0.206',\\n'ORB%': '7.1', 'DRB%': '21.9', 'TRB%': '14.3', 'AST%': '8.1', 'STL%': '1.1', 'BLK%': '4.4', 'TOV%': \\n'10.4', 'USG%': '20.3', 'blanl': '', 'OWS': '0.6', 'DWS': '0.5', 'WS': '1.1', 'WS/48': '0.086', 'blank2': '', \\n'OBPM': '-2.7', 'DBPM': '0.3', 'BPM': '-2.5', 'VORP': '-0.1', 'FG': '126', 'FGA': '238', 'FG%': '0.529', '3P': '0', \\n'3PA': '3', '3P%': '0', '2P': '126', '2PA': '235', '2P%': '0.536', 'eFG%': '0.529', 'FT': '32', 'FTA': '49', 'FT%': '0.653',\\n'ORB': '41', 'DRB': '118', 'TRB': '159', 'AST': '30', 'STL': '14', 'BLK': '33', 'TOV': '30', 'PF': '66', 'PTS': '284'}\""
      ]
     },
     "execution_count": 4,
     "metadata": {},
     "output_type": "execute_result"
    }
   ],
   "source": [
    "'''{'': '24690', 'Year': '2017', 'Player': 'Ivica Zubac', 'Pos': 'C', 'Age': '19', 'Tm': 'LAL',\n",
    "'G': '38', 'GS': '11', 'MP': '609', 'PER': '17', 'TS%': '0.547', '3PAr': '0.013', 'FTr': '0.206',\n",
    "'ORB%': '7.1', 'DRB%': '21.9', 'TRB%': '14.3', 'AST%': '8.1', 'STL%': '1.1', 'BLK%': '4.4', 'TOV%': \n",
    "'10.4', 'USG%': '20.3', 'blanl': '', 'OWS': '0.6', 'DWS': '0.5', 'WS': '1.1', 'WS/48': '0.086', 'blank2': '', \n",
    "'OBPM': '-2.7', 'DBPM': '0.3', 'BPM': '-2.5', 'VORP': '-0.1', 'FG': '126', 'FGA': '238', 'FG%': '0.529', '3P': '0', \n",
    "'3PA': '3', '3P%': '0', '2P': '126', '2PA': '235', '2P%': '0.536', 'eFG%': '0.529', 'FT': '32', 'FTA': '49', 'FT%': '0.653',\n",
    "'ORB': '41', 'DRB': '118', 'TRB': '159', 'AST': '30', 'STL': '14', 'BLK': '33', 'TOV': '30', 'PF': '66', 'PTS': '284'}'''"
   ]
  },
  {
   "cell_type": "code",
   "execution_count": 5,
   "id": "8ff801f3-576a-40d8-96fc-ea2bcfc1b5a0",
   "metadata": {
    "tags": []
   },
   "outputs": [],
   "source": [
    "#Position => Pos in SeaS+\n",
    "#Games Started =Y GS in SeaS+\n",
    "#Player Efficiency Rating =>PER in SeaS+\n",
    "#True Shooting % => TS% in SeaS+\n",
    "#Free Throw Rate =>FTR in Seas+\n",
    "#Usage Percentage =>USG% in SeaS+\n",
    "#Offensive Win Shares =>OWS in SeaS+\n",
    "#Defensive Win Shares =>DWS in SeaS+\n",
    "#Win Shares => WS in SeaS+\n",
    "#Offensive Plus Minus => OBPM in SeaS+\n",
    "#Defensive Plus Minus => DBPM in SeaS+\n",
    "#2-Point Field Goals =>2P in SeaS+\n",
    "#2-Point Field Goals Attempt =>2PA in SeaS+\n",
    "#2-Point Field Goals Percentage =>2P% in SeaS+\n",
    "#eFG Percentage =>eFG% in SeaS"
   ]
  },
  {
   "cell_type": "code",
   "execution_count": 6,
   "id": "481df8c1-7dc0-4b07-8ae2-277682a223aa",
   "metadata": {
    "tags": []
   },
   "outputs": [
    {
     "data": {
      "text/plain": [
       "'import time\\n\\nfor message in consumer:\\n    data=message.value\\n    full_name = data[\\'Player\\']\\n    season = data[\\'Year\\']\\n    season_stats = {\\n        \\'Pos\\':data[\\'Pos\\'],\\n        \\'Gs\\':data[\\'GS\\'],\\n        \\'FTr\\':data[\\'FTr\\'],\\n        \\'PER\\': data[\\'PER\\'],\\n        \\'TS%\\': data[\\'TS%\\'],\\n        \\'USG%\\': data[\\'USG%\\'],\\n        \\'OWS\\': data[\\'OWS\\'],\\n        \\'DWS\\':data[\\'DWS\\'],\\n        \\'WS\\':data[\\'WS\\'],\\n        \\'OBPM\\':data[\\'OBPM\\'],\\n        \\'DBPM\\':data[\\'DBPM\\'],\\n        \\'2P\\':data[\\'2P\\'],\\n        \\'2PA\\':data[\\'2PA\\'],\\n        \\'2P%\\':data[\\'2P%\\'],\\n        \\'eFG%\\':data[\\'eFG%\\'],\\n      .\\n    }\\n      existing_player = collection.find_one({\\n        \\'full_name\\': full_name,\\n        \\'season\\': season\\n    })\\n\\n    if existing_player:\\n        print(f\"Player {full_name} - Season {season} bereits in der Datenbank vorhanden. Überspringe...\")\\n        continue\\n\\n    # Insert the document into MongoDB\\n    doc = {\\n        \\'full_name\\': full_name,\\n        \\'season\\': season,\\n        **season_stats\\n    }\\n    collection.insert_one(doc)\\n    print(f\"Inserted {full_name} - Season {season}\")\\n\\n    # Hier wird der Fortschritt angezeigt\\n    print(\"Player inserted: \", full_name)'"
      ]
     },
     "execution_count": 6,
     "metadata": {},
     "output_type": "execute_result"
    }
   ],
   "source": [
    "'''import time\n",
    "\n",
    "for message in consumer:\n",
    "    data=message.value\n",
    "    full_name = data['Player']\n",
    "    season = data['Year']\n",
    "    season_stats = {\n",
    "        'Pos':data['Pos'],\n",
    "        'Gs':data['GS'],\n",
    "        'FTr':data['FTr'],\n",
    "        'PER': data['PER'],\n",
    "        'TS%': data['TS%'],\n",
    "        'USG%': data['USG%'],\n",
    "        'OWS': data['OWS'],\n",
    "        'DWS':data['DWS'],\n",
    "        'WS':data['WS'],\n",
    "        'OBPM':data['OBPM'],\n",
    "        'DBPM':data['DBPM'],\n",
    "        '2P':data['2P'],\n",
    "        '2PA':data['2PA'],\n",
    "        '2P%':data['2P%'],\n",
    "        'eFG%':data['eFG%'],\n",
    "      .\n",
    "    }\n",
    "      existing_player = collection.find_one({\n",
    "        'full_name': full_name,\n",
    "        'season': season\n",
    "    })\n",
    "\n",
    "    if existing_player:\n",
    "        print(f\"Player {full_name} - Season {season} bereits in der Datenbank vorhanden. Überspringe...\")\n",
    "        continue\n",
    "\n",
    "    # Insert the document into MongoDB\n",
    "    doc = {\n",
    "        'full_name': full_name,\n",
    "        'season': season,\n",
    "        **season_stats\n",
    "    }\n",
    "    collection.insert_one(doc)\n",
    "    print(f\"Inserted {full_name} - Season {season}\")\n",
    "\n",
    "    # Hier wird der Fortschritt angezeigt\n",
    "    print(\"Player inserted: \", full_name)'''"
   ]
  },
  {
   "cell_type": "code",
   "execution_count": null,
   "id": "9d786b36-0517-48a9-aef3-bfe17b7e0220",
   "metadata": {
    "tags": []
   },
   "outputs": [],
   "source": [
    "from pyspark.sql import SparkSession\n",
    "from pyspark.sql.functions import from_json\n",
    "from pyspark.sql.types import StructType, StructField, StringType, DoubleType\n",
    "\n",
    "# Konfigurieren Sie die Spark Session\n",
    "spark = SparkSession.builder \\\n",
    "    .appName(\"KafkaConsumer\") \\\n",
    "    .getOrCreate()\n",
    "\n",
    "# Definieren Sie das Schema für die Daten\n",
    "schema = StructType([\n",
    "    StructField(\"Player\", StringType(), nullable=False),\n",
    "    StructField(\"Year\", StringType(), nullable=False),\n",
    "    StructField(\"Pos\", StringType(), nullable=True),\n",
    "    StructField(\"GS\", StringType(), nullable=True),\n",
    "    StructField(\"FTr\", StringType(), nullable=True),\n",
    "    StructField(\"PER\", DoubleType(), nullable=True),\n",
    "    StructField(\"TS%\", DoubleType(), nullable=True),\n",
    "    # Weitere Felder hier definieren\n",
    "])\n",
    "\n",
    "# Konfigurieren Sie die Kafka-Verbindung\n",
    "kafka_bootstrap_servers = \"localhost:9092\"\n",
    "kafka_topic = \"csv-topic\"\n",
    "\n",
    "# Lesen Sie Daten aus Kafka und erstellen Sie einen DataFrame\n",
    "df = spark \\\n",
    "    .readStream \\\n",
    "    .format(\"kafka\") \\\n",
    "    .option(\"kafka.bootstrap.servers\", kafka_bootstrap_servers) \\\n",
    "    .option(\"subscribe\", kafka_topic) \\\n",
    "    .load() \\\n",
    "    .selectExpr(\"CAST(value AS STRING)\") \\\n",
    "    .select(from_json(\"value\", schema).alias(\"data\")) \\\n",
    "    .select(\"data.*\")\n",
    "\n",
    "# Definieren Sie weitere Transformationen und Aktionen auf dem DataFrame\n",
    "# Beispiel: Filtern Sie Spielerdaten für eine bestimmte Saison\n",
    "filtered_df = df.filter(df[\"Year\"] == \"2019\")\n"
   ]
  },
  {
   "cell_type": "code",
   "execution_count": null,
   "id": "c594347f-3d45-480c-a793-474d3f48a6b5",
   "metadata": {
    "tags": []
   },
   "outputs": [],
   "source": [
    "!pip install pyspark"
   ]
  },
  {
   "cell_type": "code",
   "execution_count": null,
   "id": "7f16c8e5-80ab-4cbc-9c29-9a9747294d9e",
   "metadata": {
    "tags": []
   },
   "outputs": [],
   "source": [
    "from pyspark.sql import SparkSession\n",
    "from pyspark.sql.functions import from_json\n",
    "from pyspark.sql.types import StructType, StructField, StringType, DoubleType\n",
    "from kafka import KafkaConsumer\n",
    "import json\n",
    "\n",
    "# Konfigurieren Sie die Kafka-Verbindung\n",
    "bootstrap_servers = 'kafka:9092'\n",
    "topic_name = 'nba-CSV-data'\n",
    "consumer = KafkaConsumer(topic_name, bootstrap_servers=bootstrap_servers, value_deserializer=lambda x: json.loads(x.decode('utf-8')))\n",
    "\n",
    "# Konfigurieren Sie die Spark Session\n",
    "spark = SparkSession.builder \\\n",
    "    .appName(\"KafkaConsumer\") \\\n",
    "    .getOrCreate()\n",
    "\n",
    "# Definieren Sie das Schema für die Daten\n",
    "schema = StructType([\n",
    "    StructField(\"Player\", StringType(), nullable=False),\n",
    "    StructField(\"Year\", StringType(), nullable=False),\n",
    "    StructField(\"Pos\", StringType(), nullable=True),\n",
    "    StructField(\"GS\", StringType(), nullable=True),\n",
    "    StructField(\"FTr\", StringType(), nullable=True),\n",
    "    StructField(\"PER\", DoubleType(), nullable=True),\n",
    "    StructField(\"TS%\", DoubleType(), nullable=True),\n",
    "    # Weitere Felder hier definieren\n",
    "])\n",
    "\n",
    "# Lesen Sie Daten aus Kafka und erstellen Sie einen DataFrame\n",
    "data = []\n",
    "for message in consumer:\n",
    "    record = message.value\n",
    "    data.append(record)\n",
    "\n",
    "df = spark.createDataFrame(data, schema)\n",
    "\n",
    "# Definieren Sie weitere Transformationen und Aktionen auf dem DataFrame\n",
    "# Beispiel: Filtern Sie Spielerdaten für eine bestimmte Saison\n",
    "filtered_df = df.filter(df[\"Year\"] == \"2019\")\n"
   ]
  },
  {
   "cell_type": "code",
   "execution_count": null,
   "id": "5db64470-cf5d-4222-9b09-f3d42eec6605",
   "metadata": {},
   "outputs": [],
   "source": []
  }
 ],
 "metadata": {
  "kernelspec": {
   "display_name": "Python 3 (ipykernel)",
   "language": "python",
   "name": "python3"
  },
  "language_info": {
   "codemirror_mode": {
    "name": "ipython",
    "version": 3
   },
   "file_extension": ".py",
   "mimetype": "text/x-python",
   "name": "python",
   "nbconvert_exporter": "python",
   "pygments_lexer": "ipython3",
   "version": "3.10.10"
  }
 },
 "nbformat": 4,
 "nbformat_minor": 5
}
