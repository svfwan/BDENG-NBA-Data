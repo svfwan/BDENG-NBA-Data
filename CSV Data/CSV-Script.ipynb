{
 "cells": [
  {
   "cell_type": "markdown",
   "id": "45ed08f9-a920-4688-be68-c6cd3b64e28e",
   "metadata": {},
   "source": [
    "# DataCleaning"
   ]
  },
  {
   "cell_type": "markdown",
   "id": "5daff9ba-9c3c-4ddd-b2fb-20ad8473fb80",
   "metadata": {},
   "source": [
    "### Convert CSV-Data in Spark-DataFrame"
   ]
  },
  {
   "cell_type": "code",
   "execution_count": 210,
   "id": "ed459070-59df-4d98-9d53-ea755d21b8ad",
   "metadata": {},
   "outputs": [],
   "source": [
    "from pyspark.sql import SparkSession\n",
    "\n",
    "spark = SparkSession.builder.getOrCreate()\n",
    "\n",
    "data = spark.read.csv(\"Seasons_Stats.csv\", header=True)\n"
   ]
  },
  {
   "cell_type": "code",
   "execution_count": 211,
   "id": "47242a6d-f626-4843-8a14-106995dc75c6",
   "metadata": {},
   "outputs": [],
   "source": [
    "### Print Schema to see the belonging Datatype"
   ]
  },
  {
   "cell_type": "code",
   "execution_count": 212,
   "id": "619357b5-a08e-4cc3-954c-bb9498d4c646",
   "metadata": {
    "tags": []
   },
   "outputs": [
    {
     "name": "stdout",
     "output_type": "stream",
     "text": [
      "root\n",
      " |-- : string (nullable = true)\n",
      " |-- Year: string (nullable = true)\n",
      " |-- Player: string (nullable = true)\n",
      " |-- Pos: string (nullable = true)\n",
      " |-- Age: string (nullable = true)\n",
      " |-- Tm: string (nullable = true)\n",
      " |-- G: string (nullable = true)\n",
      " |-- GS: string (nullable = true)\n",
      " |-- MP: string (nullable = true)\n",
      " |-- PER: string (nullable = true)\n",
      " |-- TS%: string (nullable = true)\n",
      " |-- 3PAr: string (nullable = true)\n",
      " |-- FTr: string (nullable = true)\n",
      " |-- ORB%: string (nullable = true)\n",
      " |-- DRB%: string (nullable = true)\n",
      " |-- TRB%: string (nullable = true)\n",
      " |-- AST%: string (nullable = true)\n",
      " |-- STL%: string (nullable = true)\n",
      " |-- BLK%: string (nullable = true)\n",
      " |-- TOV%: string (nullable = true)\n",
      " |-- USG%: string (nullable = true)\n",
      " |-- blanl: string (nullable = true)\n",
      " |-- OWS: string (nullable = true)\n",
      " |-- DWS: string (nullable = true)\n",
      " |-- WS: string (nullable = true)\n",
      " |-- WS/48: string (nullable = true)\n",
      " |-- blank2: string (nullable = true)\n",
      " |-- OBPM: string (nullable = true)\n",
      " |-- DBPM: string (nullable = true)\n",
      " |-- BPM: string (nullable = true)\n",
      " |-- VORP: string (nullable = true)\n",
      " |-- FG: string (nullable = true)\n",
      " |-- FGA: string (nullable = true)\n",
      " |-- FG%: string (nullable = true)\n",
      " |-- 3P: string (nullable = true)\n",
      " |-- 3PA: string (nullable = true)\n",
      " |-- 3P%: string (nullable = true)\n",
      " |-- 2P: string (nullable = true)\n",
      " |-- 2PA: string (nullable = true)\n",
      " |-- 2P%: string (nullable = true)\n",
      " |-- eFG%: string (nullable = true)\n",
      " |-- FT: string (nullable = true)\n",
      " |-- FTA: string (nullable = true)\n",
      " |-- FT%: string (nullable = true)\n",
      " |-- ORB: string (nullable = true)\n",
      " |-- DRB: string (nullable = true)\n",
      " |-- TRB: string (nullable = true)\n",
      " |-- AST: string (nullable = true)\n",
      " |-- STL: string (nullable = true)\n",
      " |-- BLK: string (nullable = true)\n",
      " |-- TOV: string (nullable = true)\n",
      " |-- PF: string (nullable = true)\n",
      " |-- PTS: string (nullable = true)\n",
      "\n"
     ]
    }
   ],
   "source": [
    "spark_df.printSchema()"
   ]
  },
  {
   "cell_type": "code",
   "execution_count": 213,
   "id": "c7f92b7e-a268-49ec-9684-c44ea5973ee8",
   "metadata": {},
   "outputs": [],
   "source": [
    "### Transform the Numerical Data to Doubles/Integers"
   ]
  },
  {
   "cell_type": "code",
   "execution_count": 214,
   "id": "5dde02de-6c83-4b44-85a8-e12e23dff984",
   "metadata": {
    "tags": []
   },
   "outputs": [
    {
     "name": "stdout",
     "output_type": "stream",
     "text": [
      "+---+----+---------------+---+---+---+---+----+---+----+-----+----+-----+----+----+----+----+----+----+----+----+-----+----+----+----+-----+------+----+----+---+----+---+---+-----+---+---+---+-----+-----+-----+-----+---+---+-----+---+---+---+---+---+---+---+---+---+\n",
      "|   |Year|         Player|Pos|Age| Tm|  G|  GS| MP| PER|  TS%|3PAr|  FTr|ORB%|DRB%|TRB%|AST%|STL%|BLK%|TOV%|USG%|blanl| OWS| DWS|  WS|WS/48|blank2|OBPM|DBPM|BPM|VORP| FG|FGA|  FG%| 3P|3PA|3P%|   2P|  2PA|  2P%| eFG%| FT|FTA|  FT%|ORB|DRB|TRB|AST|STL|BLK|TOV| PF|PTS|\n",
      "+---+----+---------------+---+---+---+---+----+---+----+-----+----+-----+----+----+----+----+----+----+----+----+-----+----+----+----+-----+------+----+----+---+----+---+---+-----+---+---+---+-----+-----+-----+-----+---+---+-----+---+---+---+---+---+---+---+---+---+\n",
      "|  0|1950|Curly Armstrong|G-F| 31|FTW| 63|null|   |null|0.368|    |0.467|    |    |    |    |    |    |    |null|     |-0.1| 3.6| 3.5|     |      |null|null|   |    |144|516|0.279|   |   |   |144.0|516.0|0.279|0.279|170|241|0.705|   |   |   |176|   |   |   |217|458|\n",
      "|  1|1950|   Cliff Barker| SG| 29|INO| 49|null|   |null|0.435|    |0.387|    |    |    |    |    |    |    |null|     | 1.6| 0.6| 2.2|     |      |null|null|   |    |102|274|0.372|   |   |   |102.0|274.0|0.372|0.372| 75|106|0.708|   |   |   |109|   |   |   | 99|279|\n",
      "|  2|1950|  Leo Barnhorst| SF| 25|CHS| 67|null|   |null|0.394|    |0.259|    |    |    |    |    |    |    |null|     | 0.9| 2.8| 3.6|     |      |null|null|   |    |174|499|0.349|   |   |   |174.0|499.0|0.349|0.349| 90|129|0.698|   |   |   |140|   |   |   |192|438|\n",
      "|  3|1950|     Ed Bartels|  F| 24|TOT| 15|null|   |null|0.312|    |0.395|    |    |    |    |    |    |    |null|     |-0.5|-0.1|-0.6|     |      |null|null|   |    | 22| 86|0.256|   |   |   | 22.0| 86.0|0.256|0.256| 19| 34|0.559|   |   |   | 20|   |   |   | 29| 63|\n",
      "|  4|1950|     Ed Bartels|  F| 24|DNN| 13|null|   |null|0.308|    |0.378|    |    |    |    |    |    |    |null|     |-0.5|-0.1|-0.6|     |      |null|null|   |    | 21| 82|0.256|   |   |   | 21.0| 82.0|0.256|0.256| 17| 31|0.548|   |   |   | 20|   |   |   | 27| 59|\n",
      "+---+----+---------------+---+---+---+---+----+---+----+-----+----+-----+----+----+----+----+----+----+----+----+-----+----+----+----+-----+------+----+----+---+----+---+---+-----+---+---+---+-----+-----+-----+-----+---+---+-----+---+---+---+---+---+---+---+---+---+\n",
      "only showing top 5 rows\n",
      "\n"
     ]
    }
   ],
   "source": [
    "from pyspark.sql.functions import col\n",
    "cleaned_df = spark_df.withColumn(\"Year\", col(\"Year\").cast(\"integer\")) \\\n",
    "                     .withColumn(\"Age\", col(\"Age\").cast(\"integer\")) \\\n",
    "                     .withColumn(\"GS\", col(\"GS\").cast(\"double\")) \\\n",
    "                     .withColumn(\"PER\", col(\"PER\").cast(\"double\")) \\\n",
    "                     .withColumn(\"TS%\", col(\"TS%\").cast(\"double\")) \\\n",
    "                     .withColumn(\"FTr\", col(\"FTr\").cast(\"double\")) \\\n",
    "                     .withColumn(\"OWS\", col(\"OWS\").cast(\"double\")) \\\n",
    "                     .withColumn(\"DWS\", col(\"DWS\").cast(\"double\")) \\\n",
    "                     .withColumn(\"WS\", col(\"WS\").cast(\"double\")) \\\n",
    "                     .withColumn(\"OBPM\", col(\"OBPM\").cast(\"double\")) \\\n",
    "                     .withColumn(\"DBPM\", col(\"DBPM\").cast(\"double\")) \\\n",
    "                     .withColumn(\"2P\", col(\"2P\").cast(\"double\")) \\\n",
    "                     .withColumn(\"2PA\", col(\"2PA\").cast(\"double\")) \\\n",
    "                     .withColumn(\"2P%\", col(\"2P%\").cast(\"double\")) \\\n",
    "                     .withColumn(\"eFG%\", col(\"eFG%\").cast(\"double\")) \\\n",
    "                     .withColumn(\"USG%\", col(\"USG%\").cast(\"double\")) \\\n",
    "\n",
    "cleaned_df.show(5)"
   ]
  },
  {
   "cell_type": "code",
   "execution_count": 215,
   "id": "aa9c9ad7-cba3-48da-8d91-e90a9f1dac16",
   "metadata": {
    "tags": []
   },
   "outputs": [
    {
     "name": "stdout",
     "output_type": "stream",
     "text": [
      "root\n",
      " |-- : string (nullable = true)\n",
      " |-- Year: integer (nullable = true)\n",
      " |-- Player: string (nullable = true)\n",
      " |-- Pos: string (nullable = true)\n",
      " |-- Age: integer (nullable = true)\n",
      " |-- Tm: string (nullable = true)\n",
      " |-- G: string (nullable = true)\n",
      " |-- GS: double (nullable = true)\n",
      " |-- MP: string (nullable = true)\n",
      " |-- PER: double (nullable = true)\n",
      " |-- TS%: double (nullable = true)\n",
      " |-- 3PAr: string (nullable = true)\n",
      " |-- FTr: double (nullable = true)\n",
      " |-- ORB%: string (nullable = true)\n",
      " |-- DRB%: string (nullable = true)\n",
      " |-- TRB%: string (nullable = true)\n",
      " |-- AST%: string (nullable = true)\n",
      " |-- STL%: string (nullable = true)\n",
      " |-- BLK%: string (nullable = true)\n",
      " |-- TOV%: string (nullable = true)\n",
      " |-- USG%: double (nullable = true)\n",
      " |-- blanl: string (nullable = true)\n",
      " |-- OWS: double (nullable = true)\n",
      " |-- DWS: double (nullable = true)\n",
      " |-- WS: double (nullable = true)\n",
      " |-- WS/48: string (nullable = true)\n",
      " |-- blank2: string (nullable = true)\n",
      " |-- OBPM: double (nullable = true)\n",
      " |-- DBPM: double (nullable = true)\n",
      " |-- BPM: string (nullable = true)\n",
      " |-- VORP: string (nullable = true)\n",
      " |-- FG: string (nullable = true)\n",
      " |-- FGA: string (nullable = true)\n",
      " |-- FG%: string (nullable = true)\n",
      " |-- 3P: string (nullable = true)\n",
      " |-- 3PA: string (nullable = true)\n",
      " |-- 3P%: string (nullable = true)\n",
      " |-- 2P: double (nullable = true)\n",
      " |-- 2PA: double (nullable = true)\n",
      " |-- 2P%: double (nullable = true)\n",
      " |-- eFG%: double (nullable = true)\n",
      " |-- FT: string (nullable = true)\n",
      " |-- FTA: string (nullable = true)\n",
      " |-- FT%: string (nullable = true)\n",
      " |-- ORB: string (nullable = true)\n",
      " |-- DRB: string (nullable = true)\n",
      " |-- TRB: string (nullable = true)\n",
      " |-- AST: string (nullable = true)\n",
      " |-- STL: string (nullable = true)\n",
      " |-- BLK: string (nullable = true)\n",
      " |-- TOV: string (nullable = true)\n",
      " |-- PF: string (nullable = true)\n",
      " |-- PTS: string (nullable = true)\n",
      "\n"
     ]
    }
   ],
   "source": [
    "cleaned_df.printSchema()"
   ]
  },
  {
   "cell_type": "code",
   "execution_count": 216,
   "id": "7aae0354-a184-4ee0-85b7-299071108be5",
   "metadata": {},
   "outputs": [],
   "source": [
    "### Search for Players who have muliple entries for one year (because they played for one Team)"
   ]
  },
  {
   "cell_type": "code",
   "execution_count": 217,
   "id": "ec0e6657-62c2-430e-a3c1-bb09f780f6d9",
   "metadata": {
    "tags": []
   },
   "outputs": [],
   "source": [
    "withoutDuplicates_df = aggregated_df.dropDuplicates(subset= ['Player', 'Year'])"
   ]
  },
  {
   "cell_type": "code",
   "execution_count": 218,
   "id": "54542f68-d4da-4cb0-9e98-7abacee7c5cb",
   "metadata": {},
   "outputs": [],
   "source": [
    "### Update the name of the Name (Before 'Player'-> Now 'Full_Name') and adapt the season to the other data. "
   ]
  },
  {
   "cell_type": "code",
   "execution_count": 219,
   "id": "8687c415-82f5-45d6-b97c-6a5547d42d9a",
   "metadata": {},
   "outputs": [
    {
     "name": "stdout",
     "output_type": "stream",
     "text": [
      "+----------+----+----+----+-----+-----+----+----+----+----+----+----+-----+-----+-----+-----+---+------+\n",
      "| Full_Name|Year|  GS| PER|  TS%|  FTr|USG%| OWS| DWS|  WS|OBPM|DBPM|   2P|  2PA|  2P%| eFG%|Pos|Season|\n",
      "+----------+----+----+----+-----+-----+----+----+----+----+----+----+-----+-----+-----+-----+---+------+\n",
      "|          |    |null|null| null| null|null|null|null|null|null|null| null| null| null| null|   |  null|\n",
      "|A.C. Green|1986| 1.0|11.8|0.564| 0.43|14.7| 1.4| 2.0| 3.3|-0.5| 0.8|208.0|382.0|0.545| 0.54| PF|1985.0|\n",
      "|A.C. Green|1987|72.0|15.7|0.599| 0.48|14.7| 4.3| 3.3| 7.6| 0.6| 1.0|316.0|582.0|0.543|0.538| PF|1986.0|\n",
      "|A.C. Green|1988|64.0|14.5|0.581|0.592|14.7| 4.5| 3.4| 7.9| 0.2| 0.8|322.0|638.0|0.505|0.503| PF|1987.0|\n",
      "|A.C. Green|1989|82.0|17.8|0.594|0.474|17.0| 5.8| 3.5| 9.4| 1.6| 0.6|397.0|741.0|0.536|0.532| PF|1988.0|\n",
      "+----------+----+----+----+-----+-----+----+----+----+----+----+----+-----+-----+-----+-----+---+------+\n",
      "only showing top 5 rows\n",
      "\n"
     ]
    }
   ],
   "source": [
    "from pyspark.sql.functions import col\n",
    "\n",
    "# Umbenennen der Spalten \"Year\" in \"Saison\" und \"Player\" in \"Full_Name\"\n",
    "updated_df = withoutDuplicates_df.withColumnRenamed(\"Player\", \"Full_Name\")\n",
    "updated_year_df = updated_df.withColumn(\"Season\", col(\"Year\") - 1)\n",
    "updated_year_df.show(5)"
   ]
  },
  {
   "cell_type": "code",
   "execution_count": 220,
   "id": "aa6f1e2b-40cc-4125-9549-68840a85b806",
   "metadata": {},
   "outputs": [],
   "source": [
    "### Drop the column \"year\" because \"Season\" is the updated version"
   ]
  },
  {
   "cell_type": "code",
   "execution_count": 221,
   "id": "dea80cbd-fb44-4961-a339-6e7731343d3c",
   "metadata": {
    "tags": []
   },
   "outputs": [
    {
     "name": "stdout",
     "output_type": "stream",
     "text": [
      "+----------+----+----+-----+-----+----+----+----+----+----+----+-----+-----+-----+-----+---+------+\n",
      "| Full_Name|  GS| PER|  TS%|  FTr|USG%| OWS| DWS|  WS|OBPM|DBPM|   2P|  2PA|  2P%| eFG%|Pos|Season|\n",
      "+----------+----+----+-----+-----+----+----+----+----+----+----+-----+-----+-----+-----+---+------+\n",
      "|          |null|null| null| null|null|null|null|null|null|null| null| null| null| null|   |  null|\n",
      "|A.C. Green| 1.0|11.8|0.564| 0.43|14.7| 1.4| 2.0| 3.3|-0.5| 0.8|208.0|382.0|0.545| 0.54| PF|1985.0|\n",
      "|A.C. Green|72.0|15.7|0.599| 0.48|14.7| 4.3| 3.3| 7.6| 0.6| 1.0|316.0|582.0|0.543|0.538| PF|1986.0|\n",
      "|A.C. Green|64.0|14.5|0.581|0.592|14.7| 4.5| 3.4| 7.9| 0.2| 0.8|322.0|638.0|0.505|0.503| PF|1987.0|\n",
      "|A.C. Green|82.0|17.8|0.594|0.474|17.0| 5.8| 3.5| 9.4| 1.6| 0.6|397.0|741.0|0.536|0.532| PF|1988.0|\n",
      "+----------+----+----+-----+-----+----+----+----+----+----+----+-----+-----+-----+-----+---+------+\n",
      "only showing top 5 rows\n",
      "\n"
     ]
    }
   ],
   "source": [
    "updated_drop_df=updated_year_df.drop(\"Year\")\n",
    "updated_drop_df.show(5)"
   ]
  },
  {
   "cell_type": "code",
   "execution_count": 222,
   "id": "348c08b0-90d6-4448-9afb-6b09a456b863",
   "metadata": {},
   "outputs": [],
   "source": [
    "aggregated_df = aggregated_df.dropDuplicates()"
   ]
  },
  {
   "cell_type": "code",
   "execution_count": 223,
   "id": "a46c9e79-d30a-418d-8084-a19e1e043cfa",
   "metadata": {},
   "outputs": [],
   "source": [
    "### Fill the Null-Values with 0"
   ]
  },
  {
   "cell_type": "code",
   "execution_count": 224,
   "id": "19be7cd9-20f8-4842-9ba6-540468292327",
   "metadata": {
    "tags": []
   },
   "outputs": [
    {
     "name": "stdout",
     "output_type": "stream",
     "text": [
      "+----------+----+----+-----+-----+----+---+---+---+----+----+-----+-----+-----+-----+---+------+\n",
      "| Full_Name|  GS| PER|  TS%|  FTr|USG%|OWS|DWS| WS|OBPM|DBPM|   2P|  2PA|  2P%| eFG%|Pos|Season|\n",
      "+----------+----+----+-----+-----+----+---+---+---+----+----+-----+-----+-----+-----+---+------+\n",
      "|          | 0.0| 0.0|  0.0|  0.0| 0.0|0.0|0.0|0.0| 0.0| 0.0|  0.0|  0.0|  0.0|  0.0|   |   0.0|\n",
      "|A.C. Green| 1.0|11.8|0.564| 0.43|14.7|1.4|2.0|3.3|-0.5| 0.8|208.0|382.0|0.545| 0.54| PF|1985.0|\n",
      "|A.C. Green|72.0|15.7|0.599| 0.48|14.7|4.3|3.3|7.6| 0.6| 1.0|316.0|582.0|0.543|0.538| PF|1986.0|\n",
      "|A.C. Green|64.0|14.5|0.581|0.592|14.7|4.5|3.4|7.9| 0.2| 0.8|322.0|638.0|0.505|0.503| PF|1987.0|\n",
      "|A.C. Green|82.0|17.8|0.594|0.474|17.0|5.8|3.5|9.4| 1.6| 0.6|397.0|741.0|0.536|0.532| PF|1988.0|\n",
      "+----------+----+----+-----+-----+----+---+---+---+----+----+-----+-----+-----+-----+---+------+\n",
      "only showing top 5 rows\n",
      "\n"
     ]
    }
   ],
   "source": [
    "filled_df = updated_drop_df.fillna(0)\n",
    "filled_df.show(5)"
   ]
  },
  {
   "cell_type": "code",
   "execution_count": 225,
   "id": "f558b96d-344f-4b01-bc66-0a2d8fbe7904",
   "metadata": {},
   "outputs": [],
   "source": [
    "### Transform the Seson from Double to Integer"
   ]
  },
  {
   "cell_type": "code",
   "execution_count": 226,
   "id": "de6bbfde-e72a-46d3-ab59-59111bf6e572",
   "metadata": {
    "tags": []
   },
   "outputs": [
    {
     "name": "stdout",
     "output_type": "stream",
     "text": [
      "+----------+----+----+-----+-----+----+---+---+---+----+----+-----+-----+-----+-----+---+------+\n",
      "| Full_Name|  GS| PER|  TS%|  FTr|USG%|OWS|DWS| WS|OBPM|DBPM|   2P|  2PA|  2P%| eFG%|Pos|Season|\n",
      "+----------+----+----+-----+-----+----+---+---+---+----+----+-----+-----+-----+-----+---+------+\n",
      "|          | 0.0| 0.0|  0.0|  0.0| 0.0|0.0|0.0|0.0| 0.0| 0.0|  0.0|  0.0|  0.0|  0.0|   |     0|\n",
      "|A.C. Green| 1.0|11.8|0.564| 0.43|14.7|1.4|2.0|3.3|-0.5| 0.8|208.0|382.0|0.545| 0.54| PF|  1985|\n",
      "|A.C. Green|72.0|15.7|0.599| 0.48|14.7|4.3|3.3|7.6| 0.6| 1.0|316.0|582.0|0.543|0.538| PF|  1986|\n",
      "|A.C. Green|64.0|14.5|0.581|0.592|14.7|4.5|3.4|7.9| 0.2| 0.8|322.0|638.0|0.505|0.503| PF|  1987|\n",
      "|A.C. Green|82.0|17.8|0.594|0.474|17.0|5.8|3.5|9.4| 1.6| 0.6|397.0|741.0|0.536|0.532| PF|  1988|\n",
      "+----------+----+----+-----+-----+----+---+---+---+----+----+-----+-----+-----+-----+---+------+\n",
      "only showing top 5 rows\n",
      "\n"
     ]
    }
   ],
   "source": [
    "integer_df = filled_df.withColumn(\"Season\", filled_df[\"Season\"].cast(\"integer\"))\n",
    "integer_df.show(5)"
   ]
  },
  {
   "cell_type": "code",
   "execution_count": 227,
   "id": "39cf347c-b958-4126-871c-2fea26e50da6",
   "metadata": {},
   "outputs": [],
   "source": [
    "### Put season on the 2nd place"
   ]
  },
  {
   "cell_type": "code",
   "execution_count": 228,
   "id": "2ae619c7-e116-4f76-995f-d4ce6a6080f0",
   "metadata": {
    "tags": []
   },
   "outputs": [
    {
     "name": "stdout",
     "output_type": "stream",
     "text": [
      "+----------+------+----+----+-----+-----+----+---+---+---+----+----+-----+-----+-----+-----+---+\n",
      "| Full_Name|Season|  GS| PER|  TS%|  FTr|USG%|OWS|DWS| WS|OBPM|DBPM|   2P|  2PA|  2P%| eFG%|Pos|\n",
      "+----------+------+----+----+-----+-----+----+---+---+---+----+----+-----+-----+-----+-----+---+\n",
      "|          |     0| 0.0| 0.0|  0.0|  0.0| 0.0|0.0|0.0|0.0| 0.0| 0.0|  0.0|  0.0|  0.0|  0.0|   |\n",
      "|A.C. Green|  1985| 1.0|11.8|0.564| 0.43|14.7|1.4|2.0|3.3|-0.5| 0.8|208.0|382.0|0.545| 0.54| PF|\n",
      "|A.C. Green|  1986|72.0|15.7|0.599| 0.48|14.7|4.3|3.3|7.6| 0.6| 1.0|316.0|582.0|0.543|0.538| PF|\n",
      "|A.C. Green|  1987|64.0|14.5|0.581|0.592|14.7|4.5|3.4|7.9| 0.2| 0.8|322.0|638.0|0.505|0.503| PF|\n",
      "|A.C. Green|  1988|82.0|17.8|0.594|0.474|17.0|5.8|3.5|9.4| 1.6| 0.6|397.0|741.0|0.536|0.532| PF|\n",
      "+----------+------+----+----+-----+-----+----+---+---+---+----+----+-----+-----+-----+-----+---+\n",
      "only showing top 5 rows\n",
      "\n"
     ]
    }
   ],
   "source": [
    "reordered_df = integer_df.withColumn(\"Season\", col(\"Season\").cast(\"integer\")) \\\n",
    "                         .select(integer_df.columns[0], \"Season\", *integer_df.columns[1:-1])\n",
    "reordered_df.show(5)\n"
   ]
  },
  {
   "cell_type": "code",
   "execution_count": 229,
   "id": "8edd85ac-b140-4c81-a7be-6a2e0341b6f1",
   "metadata": {
    "tags": []
   },
   "outputs": [
    {
     "data": {
      "text/plain": [
       "'client = mdb.MongoClient(\"mongodb://pt-n20.p4001.w3.cs.technikum-wien.at:4001\")\\ndb = client.nba_data\\ncollection = db.season_stats_csv'"
      ]
     },
     "execution_count": 229,
     "metadata": {},
     "output_type": "execute_result"
    }
   ],
   "source": [
    "'''client = mdb.MongoClient(\"mongodb://pt-n20.p4001.w3.cs.technikum-wien.at:4001\")\n",
    "db = client.nba_data\n",
    "collection = db.season_stats_csv'''"
   ]
  },
  {
   "cell_type": "code",
   "execution_count": 230,
   "id": "a5f78182-9fd9-4756-a25e-7f9b0afeda37",
   "metadata": {},
   "outputs": [],
   "source": [
    "# Rename the \"_c0\" column to \"Season\"\n",
    "reordered_df = reordered_df.withColumnRenamed(\"_c0\", \"Season\")\n",
    "\n",
    "# Convert the \"Season\" column to integer type\n",
    "reordered_df = reordered_df.withColumn(\"Season\", reordered_df[\"Season\"].cast(\"integer\"))\n",
    "\n"
   ]
  },
  {
   "cell_type": "code",
   "execution_count": 231,
   "id": "7ca74ae4-347a-4d60-9436-57cae877e5a1",
   "metadata": {},
   "outputs": [],
   "source": [
    "# Select the desired columns from the reordered DataFrame\n",
    "selected_columns = ['Full_Name','Season', 'Pos', 'GS', 'PER', 'TS%',\n",
    "                    'FTr', 'USG%', 'OWS', 'DWS',\n",
    "                    'WS', 'OBPM', 'DBPM', '2P',\n",
    "                    '2PA', '2P%', 'eFG%']\n",
    "selected_df = reordered_df.select(selected_columns)\n",
    "\n",
    "# Filter the data based on the desired years/seasons\n",
    "filtered_data = selected_df.filter(selected_df[\"Season\"].isin(years_seasons))\n",
    "\n",
    "# Convert the Spark DataFrame to a pandas DataFrame\n",
    "pandas_df = filtered_data.toPandas()"
   ]
  },
  {
   "cell_type": "code",
   "execution_count": 232,
   "id": "e7ea92f2-9688-4d6f-b15a-5bea57a51864",
   "metadata": {
    "tags": []
   },
   "outputs": [
    {
     "name": "stdout",
     "output_type": "stream",
     "text": [
      "Data uploaded to MongoDB successfully.\n"
     ]
    }
   ],
   "source": [
    "# Upload data to MongoDB\n",
    "client = mdb.MongoClient(\"mongodb://pt-n20.p4001.w3.cs.technikum-wien.at:4001\")\n",
    "db = client[\"nba_data\"]\n",
    "collection = db[\"season_stats_csv\"]\n",
    "collection.insert_many(pandas_df.to_dict(\"records\"))\n",
    "\n",
    "print(\"Data uploaded to MongoDB successfully.\")"
   ]
  }
 ],
 "metadata": {
  "kernelspec": {
   "display_name": "Python 3 (ipykernel)",
   "language": "python",
   "name": "python3"
  },
  "language_info": {
   "codemirror_mode": {
    "name": "ipython",
    "version": 3
   },
   "file_extension": ".py",
   "mimetype": "text/x-python",
   "name": "python",
   "nbconvert_exporter": "python",
   "pygments_lexer": "ipython3",
   "version": "3.10.10"
  }
 },
 "nbformat": 4,
 "nbformat_minor": 5
}
