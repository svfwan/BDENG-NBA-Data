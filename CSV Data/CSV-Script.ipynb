{
 "cells": [
  {
   "cell_type": "markdown",
   "id": "45ed08f9-a920-4688-be68-c6cd3b64e28e",
   "metadata": {},
   "source": [
    "# Script for CSV Data\n",
    "\n",
    "\n",
    "Here, the CSV dataset imported from Kaggle is being transformed into a SparkDataFrame and subsequently cleaned. The numeric data, which is initially in string format, is converted to integer or double values. Duplicates are removed, and the season year is adjusted to match the season years in the other datasets. Additionally, the name of Michael Jordan had to be explicitly changed because it was listed as \"Michael Jordan*\", which would have resulted in the loss of the player during the inner join. Therefore, it was renamed to \"Michael Jordan.\""
   ]
  },
  {
   "cell_type": "markdown",
   "id": "5daff9ba-9c3c-4ddd-b2fb-20ad8473fb80",
   "metadata": {},
   "source": [
    "### Convert CSV-Data in Spark-DataFrame"
   ]
  },
  {
   "cell_type": "code",
   "execution_count": 1,
   "id": "54b5628b-9be6-42c2-b3b7-0d4ac20ba6e9",
   "metadata": {
    "tags": []
   },
   "outputs": [],
   "source": [
    "import pymongo as mdb\n",
    "from pyspark.sql import SparkSession\n",
    "from pyspark.sql.functions import col\n",
    "from pyspark.sql import functions as F"
   ]
  },
  {
   "cell_type": "code",
   "execution_count": 2,
   "id": "ed459070-59df-4d98-9d53-ea755d21b8ad",
   "metadata": {},
   "outputs": [],
   "source": [
    "spark = SparkSession.builder.getOrCreate()\n",
    "spark_df= spark.read.csv(\"Seasons_Stats.csv\", header=True)"
   ]
  },
  {
   "cell_type": "markdown",
   "id": "586a9a1f-bceb-4272-8d83-ceeb51fc511b",
   "metadata": {},
   "source": [
    "## View Schema of Dataframe"
   ]
  },
  {
   "cell_type": "code",
   "execution_count": 3,
   "id": "619357b5-a08e-4cc3-954c-bb9498d4c646",
   "metadata": {
    "tags": []
   },
   "outputs": [
    {
     "name": "stdout",
     "output_type": "stream",
     "text": [
      "root\n",
      " |-- _c0: string (nullable = true)\n",
      " |-- Year: string (nullable = true)\n",
      " |-- Player: string (nullable = true)\n",
      " |-- Pos: string (nullable = true)\n",
      " |-- Age: string (nullable = true)\n",
      " |-- Tm: string (nullable = true)\n",
      " |-- G: string (nullable = true)\n",
      " |-- GS: string (nullable = true)\n",
      " |-- MP: string (nullable = true)\n",
      " |-- PER: string (nullable = true)\n",
      " |-- TS%: string (nullable = true)\n",
      " |-- 3PAr: string (nullable = true)\n",
      " |-- FTr: string (nullable = true)\n",
      " |-- ORB%: string (nullable = true)\n",
      " |-- DRB%: string (nullable = true)\n",
      " |-- TRB%: string (nullable = true)\n",
      " |-- AST%: string (nullable = true)\n",
      " |-- STL%: string (nullable = true)\n",
      " |-- BLK%: string (nullable = true)\n",
      " |-- TOV%: string (nullable = true)\n",
      " |-- USG%: string (nullable = true)\n",
      " |-- blanl: string (nullable = true)\n",
      " |-- OWS: string (nullable = true)\n",
      " |-- DWS: string (nullable = true)\n",
      " |-- WS: string (nullable = true)\n",
      " |-- WS/48: string (nullable = true)\n",
      " |-- blank2: string (nullable = true)\n",
      " |-- OBPM: string (nullable = true)\n",
      " |-- DBPM: string (nullable = true)\n",
      " |-- BPM: string (nullable = true)\n",
      " |-- VORP: string (nullable = true)\n",
      " |-- FG: string (nullable = true)\n",
      " |-- FGA: string (nullable = true)\n",
      " |-- FG%: string (nullable = true)\n",
      " |-- 3P: string (nullable = true)\n",
      " |-- 3PA: string (nullable = true)\n",
      " |-- 3P%: string (nullable = true)\n",
      " |-- 2P: string (nullable = true)\n",
      " |-- 2PA: string (nullable = true)\n",
      " |-- 2P%: string (nullable = true)\n",
      " |-- eFG%: string (nullable = true)\n",
      " |-- FT: string (nullable = true)\n",
      " |-- FTA: string (nullable = true)\n",
      " |-- FT%: string (nullable = true)\n",
      " |-- ORB: string (nullable = true)\n",
      " |-- DRB: string (nullable = true)\n",
      " |-- TRB: string (nullable = true)\n",
      " |-- AST: string (nullable = true)\n",
      " |-- STL: string (nullable = true)\n",
      " |-- BLK: string (nullable = true)\n",
      " |-- TOV: string (nullable = true)\n",
      " |-- PF: string (nullable = true)\n",
      " |-- PTS: string (nullable = true)\n",
      "\n"
     ]
    }
   ],
   "source": [
    "spark_df.printSchema()"
   ]
  },
  {
   "cell_type": "markdown",
   "id": "3e63a4db-edf8-44c1-8421-64a003ae5145",
   "metadata": {},
   "source": [
    "### Data Cleaning"
   ]
  },
  {
   "cell_type": "code",
   "execution_count": 4,
   "id": "5dde02de-6c83-4b44-85a8-e12e23dff984",
   "metadata": {
    "tags": []
   },
   "outputs": [
    {
     "name": "stdout",
     "output_type": "stream",
     "text": [
      "+---+----+---------------+---+---+---+---+----+----+----+-----+----+-----+----+----+----+----+----+----+----+----+-----+----+----+----+-----+------+----+----+----+----+---+---+-----+----+----+----+-----+-----+-----+-----+---+---+-----+----+----+----+---+----+----+----+---+---+\n",
      "|_c0|Year|         Player|Pos|Age| Tm|  G|  GS|  MP| PER|  TS%|3PAr|  FTr|ORB%|DRB%|TRB%|AST%|STL%|BLK%|TOV%|USG%|blanl| OWS| DWS|  WS|WS/48|blank2|OBPM|DBPM| BPM|VORP| FG|FGA|  FG%|  3P| 3PA| 3P%|   2P|  2PA|  2P%| eFG%| FT|FTA|  FT%| ORB| DRB| TRB|AST| STL| BLK| TOV| PF|PTS|\n",
      "+---+----+---------------+---+---+---+---+----+----+----+-----+----+-----+----+----+----+----+----+----+----+----+-----+----+----+----+-----+------+----+----+----+----+---+---+-----+----+----+----+-----+-----+-----+-----+---+---+-----+----+----+----+---+----+----+----+---+---+\n",
      "|  0|1950|Curly Armstrong|G-F| 31|FTW| 63|null|null|null|0.368|null|0.467|null|null|null|null|null|null|null|null| null|-0.1| 3.6| 3.5| null|  null|null|null|null|null|144|516|0.279|null|null|null|144.0|516.0|0.279|0.279|170|241|0.705|null|null|null|176|null|null|null|217|458|\n",
      "|  1|1950|   Cliff Barker| SG| 29|INO| 49|null|null|null|0.435|null|0.387|null|null|null|null|null|null|null|null| null| 1.6| 0.6| 2.2| null|  null|null|null|null|null|102|274|0.372|null|null|null|102.0|274.0|0.372|0.372| 75|106|0.708|null|null|null|109|null|null|null| 99|279|\n",
      "|  2|1950|  Leo Barnhorst| SF| 25|CHS| 67|null|null|null|0.394|null|0.259|null|null|null|null|null|null|null|null| null| 0.9| 2.8| 3.6| null|  null|null|null|null|null|174|499|0.349|null|null|null|174.0|499.0|0.349|0.349| 90|129|0.698|null|null|null|140|null|null|null|192|438|\n",
      "|  3|1950|     Ed Bartels|  F| 24|TOT| 15|null|null|null|0.312|null|0.395|null|null|null|null|null|null|null|null| null|-0.5|-0.1|-0.6| null|  null|null|null|null|null| 22| 86|0.256|null|null|null| 22.0| 86.0|0.256|0.256| 19| 34|0.559|null|null|null| 20|null|null|null| 29| 63|\n",
      "|  4|1950|     Ed Bartels|  F| 24|DNN| 13|null|null|null|0.308|null|0.378|null|null|null|null|null|null|null|null| null|-0.5|-0.1|-0.6| null|  null|null|null|null|null| 21| 82|0.256|null|null|null| 21.0| 82.0|0.256|0.256| 17| 31|0.548|null|null|null| 20|null|null|null| 27| 59|\n",
      "+---+----+---------------+---+---+---+---+----+----+----+-----+----+-----+----+----+----+----+----+----+----+----+-----+----+----+----+-----+------+----+----+----+----+---+---+-----+----+----+----+-----+-----+-----+-----+---+---+-----+----+----+----+---+----+----+----+---+---+\n",
      "only showing top 5 rows\n",
      "\n"
     ]
    }
   ],
   "source": [
    "# Transform the Numerical Data to Doubles/Integers\n",
    "cleaned_df = spark_df.withColumn(\"Year\", col(\"Year\").cast(\"integer\")) \\\n",
    "                     .withColumn(\"Age\", col(\"Age\").cast(\"integer\")) \\\n",
    "                     .withColumn(\"GS\", col(\"GS\").cast(\"double\")) \\\n",
    "                     .withColumn(\"PER\", col(\"PER\").cast(\"double\")) \\\n",
    "                     .withColumn(\"TS%\", col(\"TS%\").cast(\"double\")) \\\n",
    "                     .withColumn(\"FTr\", col(\"FTr\").cast(\"double\")) \\\n",
    "                     .withColumn(\"OWS\", col(\"OWS\").cast(\"double\")) \\\n",
    "                     .withColumn(\"DWS\", col(\"DWS\").cast(\"double\")) \\\n",
    "                     .withColumn(\"WS\", col(\"WS\").cast(\"double\")) \\\n",
    "                     .withColumn(\"OBPM\", col(\"OBPM\").cast(\"double\")) \\\n",
    "                     .withColumn(\"DBPM\", col(\"DBPM\").cast(\"double\")) \\\n",
    "                     .withColumn(\"2P\", col(\"2P\").cast(\"double\")) \\\n",
    "                     .withColumn(\"2PA\", col(\"2PA\").cast(\"double\")) \\\n",
    "                     .withColumn(\"2P%\", col(\"2P%\").cast(\"double\")) \\\n",
    "                     .withColumn(\"eFG%\", col(\"eFG%\").cast(\"double\")) \\\n",
    "                     .withColumn(\"USG%\", col(\"USG%\").cast(\"double\")) \\\n",
    "\n",
    "cleaned_df.show(5)"
   ]
  },
  {
   "cell_type": "code",
   "execution_count": 5,
   "id": "aa9c9ad7-cba3-48da-8d91-e90a9f1dac16",
   "metadata": {
    "tags": []
   },
   "outputs": [
    {
     "name": "stdout",
     "output_type": "stream",
     "text": [
      "root\n",
      " |-- _c0: string (nullable = true)\n",
      " |-- Year: integer (nullable = true)\n",
      " |-- Player: string (nullable = true)\n",
      " |-- Pos: string (nullable = true)\n",
      " |-- Age: integer (nullable = true)\n",
      " |-- Tm: string (nullable = true)\n",
      " |-- G: string (nullable = true)\n",
      " |-- GS: double (nullable = true)\n",
      " |-- MP: string (nullable = true)\n",
      " |-- PER: double (nullable = true)\n",
      " |-- TS%: double (nullable = true)\n",
      " |-- 3PAr: string (nullable = true)\n",
      " |-- FTr: double (nullable = true)\n",
      " |-- ORB%: string (nullable = true)\n",
      " |-- DRB%: string (nullable = true)\n",
      " |-- TRB%: string (nullable = true)\n",
      " |-- AST%: string (nullable = true)\n",
      " |-- STL%: string (nullable = true)\n",
      " |-- BLK%: string (nullable = true)\n",
      " |-- TOV%: string (nullable = true)\n",
      " |-- USG%: double (nullable = true)\n",
      " |-- blanl: string (nullable = true)\n",
      " |-- OWS: double (nullable = true)\n",
      " |-- DWS: double (nullable = true)\n",
      " |-- WS: double (nullable = true)\n",
      " |-- WS/48: string (nullable = true)\n",
      " |-- blank2: string (nullable = true)\n",
      " |-- OBPM: double (nullable = true)\n",
      " |-- DBPM: double (nullable = true)\n",
      " |-- BPM: string (nullable = true)\n",
      " |-- VORP: string (nullable = true)\n",
      " |-- FG: string (nullable = true)\n",
      " |-- FGA: string (nullable = true)\n",
      " |-- FG%: string (nullable = true)\n",
      " |-- 3P: string (nullable = true)\n",
      " |-- 3PA: string (nullable = true)\n",
      " |-- 3P%: string (nullable = true)\n",
      " |-- 2P: double (nullable = true)\n",
      " |-- 2PA: double (nullable = true)\n",
      " |-- 2P%: double (nullable = true)\n",
      " |-- eFG%: double (nullable = true)\n",
      " |-- FT: string (nullable = true)\n",
      " |-- FTA: string (nullable = true)\n",
      " |-- FT%: string (nullable = true)\n",
      " |-- ORB: string (nullable = true)\n",
      " |-- DRB: string (nullable = true)\n",
      " |-- TRB: string (nullable = true)\n",
      " |-- AST: string (nullable = true)\n",
      " |-- STL: string (nullable = true)\n",
      " |-- BLK: string (nullable = true)\n",
      " |-- TOV: string (nullable = true)\n",
      " |-- PF: string (nullable = true)\n",
      " |-- PTS: string (nullable = true)\n",
      "\n"
     ]
    }
   ],
   "source": [
    "cleaned_df.printSchema()"
   ]
  },
  {
   "cell_type": "markdown",
   "id": "f3d05f58-dea3-4e72-ae00-40b6ef634eb6",
   "metadata": {},
   "source": [
    "### Remove Duplicates"
   ]
  },
  {
   "cell_type": "code",
   "execution_count": 6,
   "id": "ec0e6657-62c2-430e-a3c1-bb09f780f6d9",
   "metadata": {
    "tags": []
   },
   "outputs": [],
   "source": [
    "withoutDuplicates_df = cleaned_df.dropDuplicates(subset= ['Player', 'Year'])"
   ]
  },
  {
   "cell_type": "code",
   "execution_count": 7,
   "id": "8687c415-82f5-45d6-b97c-6a5547d42d9a",
   "metadata": {},
   "outputs": [
    {
     "name": "stdout",
     "output_type": "stream",
     "text": [
      "+-----+----+------------+----+----+----+----+----+----+----+-----+-----+-----+----+----+----+----+----+----+----+----+-----+----+----+----+-----+------+----+----+----+----+----+----+-----+----+----+-----+-----+-----+-----+-----+----+----+-----+----+----+----+----+----+----+----+----+----+------+\n",
      "|  _c0|Year|   Full_Name| Pos| Age|  Tm|   G|  GS|  MP| PER|  TS%| 3PAr|  FTr|ORB%|DRB%|TRB%|AST%|STL%|BLK%|TOV%|USG%|blanl| OWS| DWS|  WS|WS/48|blank2|OBPM|DBPM| BPM|VORP|  FG| FGA|  FG%|  3P| 3PA|  3P%|   2P|  2PA|  2P%| eFG%|  FT| FTA|  FT%| ORB| DRB| TRB| AST| STL| BLK| TOV|  PF| PTS|Season|\n",
      "+-----+----+------------+----+----+----+----+----+----+----+-----+-----+-----+----+----+----+----+----+----+----+----+-----+----+----+----+-----+------+----+----+----+----+----+----+-----+----+----+-----+-----+-----+-----+-----+----+----+-----+----+----+----+----+----+----+----+----+----+------+\n",
      "|  312|null|        null|null|null|null|null|null|null|null| null| null| null|null|null|null|null|null|null|null|null| null|null|null|null| null|  null|null|null|null|null|null|null| null|null|null| null| null| null| null| null|null|null| null|null|null|null|null|null|null|null|null|null|  null|\n",
      "| 8035|1986|  A.C. Green|  PF|  22| LAL|  82| 1.0|1542|11.8|0.564|0.015| 0.43|12.4|15.5|  14| 4.2| 1.5| 1.7|17.7|14.7| null| 1.4| 2.0| 3.3|0.103|  null|-0.5| 0.8| 0.3| 0.9| 209| 388|0.539|   1|   6|0.167|208.0|382.0|0.545| 0.54| 102| 167|0.611| 160| 221| 381|  54|  49|  49|  99| 229| 521|  1985|\n",
      "|13034|1997|  A.C. Green|  PF|  33| TOT|  83|73.0|2492|12.4|0.523|0.041|0.407|10.2|20.5|15.3| 4.4| 1.5| 0.5|11.5|11.8| null| 2.4| 2.4| 4.8|0.093|  null|-1.8| 0.7|-1.1| 0.6| 234| 484|0.483|   1|  20| 0.05|233.0|464.0|0.502|0.485| 128| 197| 0.65| 222| 434| 656|  69|  70|  16|  74| 145| 597|  1996|\n",
      "|14139|1999|  A.C. Green|  PF|  35| DAL|  50|35.0| 924|12.5|0.441|0.031|0.203| 9.9|17.8|13.9| 4.5| 1.6| 0.6| 6.4|14.8| null| 0.7| 0.7| 1.4|0.074|  null|-1.9|-0.9|-2.8|-0.2| 108| 256|0.422|   0|   8|    0|108.0|248.0|0.435|0.422|  30|  52|0.577|  82| 146| 228|  25|  28|   8|  19|  69| 246|  1998|\n",
      "|10583|1992|A.J. English|  SG|  24| WSB|  81| 6.0|1665|12.5| 0.48| 0.04|0.208| 4.8| 6.3| 5.5|13.7| 0.9| 0.3| 8.8|25.6| null| 0.1| 0.7| 0.9|0.025|  null|-2.0|-3.4|-5.4|-1.4| 366| 846|0.433|   6|  34|0.176|360.0|812.0|0.443|0.436| 148| 176|0.841|  74|  94| 168| 143|  32|   9|  89| 160| 886|  1991|\n",
      "+-----+----+------------+----+----+----+----+----+----+----+-----+-----+-----+----+----+----+----+----+----+----+----+-----+----+----+----+-----+------+----+----+----+----+----+----+-----+----+----+-----+-----+-----+-----+-----+----+----+-----+----+----+----+----+----+----+----+----+----+------+\n",
      "only showing top 5 rows\n",
      "\n"
     ]
    }
   ],
   "source": [
    "# Renaming the columns \"Year\" to \"Season\" and \"Player\" to \"Full_Name\"\n",
    "updated_df = withoutDuplicates_df.withColumnRenamed(\"Player\", \"Full_Name\")\n",
    "updated_year_df = updated_df.withColumn(\"Season\", col(\"Year\") - 1)\n",
    "updated_year_df.show(5)"
   ]
  },
  {
   "cell_type": "markdown",
   "id": "9c3e69e7-2547-408f-b8bd-52c57274547c",
   "metadata": {},
   "source": [
    "### Drop Further Columns"
   ]
  },
  {
   "cell_type": "code",
   "execution_count": 8,
   "id": "dea80cbd-fb44-4961-a339-6e7731343d3c",
   "metadata": {
    "tags": []
   },
   "outputs": [
    {
     "name": "stdout",
     "output_type": "stream",
     "text": [
      "+-----+------------+----+----+----+----+----+----+----+-----+-----+-----+----+----+----+----+----+----+----+----+-----+----+----+----+-----+------+----+----+----+----+----+----+-----+----+----+-----+-----+-----+-----+-----+----+----+-----+----+----+----+----+----+----+----+----+----+------+\n",
      "|  _c0|   Full_Name| Pos| Age|  Tm|   G|  GS|  MP| PER|  TS%| 3PAr|  FTr|ORB%|DRB%|TRB%|AST%|STL%|BLK%|TOV%|USG%|blanl| OWS| DWS|  WS|WS/48|blank2|OBPM|DBPM| BPM|VORP|  FG| FGA|  FG%|  3P| 3PA|  3P%|   2P|  2PA|  2P%| eFG%|  FT| FTA|  FT%| ORB| DRB| TRB| AST| STL| BLK| TOV|  PF| PTS|Season|\n",
      "+-----+------------+----+----+----+----+----+----+----+-----+-----+-----+----+----+----+----+----+----+----+----+-----+----+----+----+-----+------+----+----+----+----+----+----+-----+----+----+-----+-----+-----+-----+-----+----+----+-----+----+----+----+----+----+----+----+----+----+------+\n",
      "|  312|        null|null|null|null|null|null|null|null| null| null| null|null|null|null|null|null|null|null|null| null|null|null|null| null|  null|null|null|null|null|null|null| null|null|null| null| null| null| null| null|null|null| null|null|null|null|null|null|null|null|null|null|  null|\n",
      "| 8035|  A.C. Green|  PF|  22| LAL|  82| 1.0|1542|11.8|0.564|0.015| 0.43|12.4|15.5|  14| 4.2| 1.5| 1.7|17.7|14.7| null| 1.4| 2.0| 3.3|0.103|  null|-0.5| 0.8| 0.3| 0.9| 209| 388|0.539|   1|   6|0.167|208.0|382.0|0.545| 0.54| 102| 167|0.611| 160| 221| 381|  54|  49|  49|  99| 229| 521|  1985|\n",
      "|13034|  A.C. Green|  PF|  33| TOT|  83|73.0|2492|12.4|0.523|0.041|0.407|10.2|20.5|15.3| 4.4| 1.5| 0.5|11.5|11.8| null| 2.4| 2.4| 4.8|0.093|  null|-1.8| 0.7|-1.1| 0.6| 234| 484|0.483|   1|  20| 0.05|233.0|464.0|0.502|0.485| 128| 197| 0.65| 222| 434| 656|  69|  70|  16|  74| 145| 597|  1996|\n",
      "|14139|  A.C. Green|  PF|  35| DAL|  50|35.0| 924|12.5|0.441|0.031|0.203| 9.9|17.8|13.9| 4.5| 1.6| 0.6| 6.4|14.8| null| 0.7| 0.7| 1.4|0.074|  null|-1.9|-0.9|-2.8|-0.2| 108| 256|0.422|   0|   8|    0|108.0|248.0|0.435|0.422|  30|  52|0.577|  82| 146| 228|  25|  28|   8|  19|  69| 246|  1998|\n",
      "|10583|A.J. English|  SG|  24| WSB|  81| 6.0|1665|12.5| 0.48| 0.04|0.208| 4.8| 6.3| 5.5|13.7| 0.9| 0.3| 8.8|25.6| null| 0.1| 0.7| 0.9|0.025|  null|-2.0|-3.4|-5.4|-1.4| 366| 846|0.433|   6|  34|0.176|360.0|812.0|0.443|0.436| 148| 176|0.841|  74|  94| 168| 143|  32|   9|  89| 160| 886|  1991|\n",
      "+-----+------------+----+----+----+----+----+----+----+-----+-----+-----+----+----+----+----+----+----+----+----+-----+----+----+----+-----+------+----+----+----+----+----+----+-----+----+----+-----+-----+-----+-----+-----+----+----+-----+----+----+----+----+----+----+----+----+----+------+\n",
      "only showing top 5 rows\n",
      "\n"
     ]
    }
   ],
   "source": [
    "# Drop the column \"year\" because \"Season\" is the updated version\n",
    "updated_drop_df=updated_year_df.drop(\"Year\")\n",
    "updated_drop_df.show(5)"
   ]
  },
  {
   "cell_type": "markdown",
   "id": "446c1d52-f34c-487d-a428-c5ffe5463844",
   "metadata": {},
   "source": [
    "### Handle Null/NA Values"
   ]
  },
  {
   "cell_type": "code",
   "execution_count": null,
   "id": "19be7cd9-20f8-4842-9ba6-540468292327",
   "metadata": {
    "tags": []
   },
   "outputs": [],
   "source": [
    "# Fill the Null-Values with 0\n",
    "filled_df = updated_drop_df.fillna(0)\n",
    "filled_df.show(5)"
   ]
  },
  {
   "cell_type": "markdown",
   "id": "eccd8a0e-dfe6-4373-a3e2-97a47407afc5",
   "metadata": {},
   "source": [
    "### Type Casting"
   ]
  },
  {
   "cell_type": "code",
   "execution_count": 10,
   "id": "de6bbfde-e72a-46d3-ab59-59111bf6e572",
   "metadata": {
    "tags": []
   },
   "outputs": [
    {
     "name": "stdout",
     "output_type": "stream",
     "text": [
      "+-----+------------+----+---+----+----+----+----+----+-----+-----+-----+----+----+----+----+----+----+----+----+-----+---+---+---+-----+------+----+----+----+----+----+----+-----+----+----+-----+-----+-----+-----+-----+----+----+-----+----+----+----+----+----+----+----+----+----+------+\n",
      "|  _c0|   Full_Name| Pos|Age|  Tm|   G|  GS|  MP| PER|  TS%| 3PAr|  FTr|ORB%|DRB%|TRB%|AST%|STL%|BLK%|TOV%|USG%|blanl|OWS|DWS| WS|WS/48|blank2|OBPM|DBPM| BPM|VORP|  FG| FGA|  FG%|  3P| 3PA|  3P%|   2P|  2PA|  2P%| eFG%|  FT| FTA|  FT%| ORB| DRB| TRB| AST| STL| BLK| TOV|  PF| PTS|Season|\n",
      "+-----+------------+----+---+----+----+----+----+----+-----+-----+-----+----+----+----+----+----+----+----+----+-----+---+---+---+-----+------+----+----+----+----+----+----+-----+----+----+-----+-----+-----+-----+-----+----+----+-----+----+----+----+----+----+----+----+----+----+------+\n",
      "|  312|        null|null|  0|null|null| 0.0|null| 0.0|  0.0| null|  0.0|null|null|null|null|null|null|null| 0.0| null|0.0|0.0|0.0| null|  null| 0.0| 0.0|null|null|null|null| null|null|null| null|  0.0|  0.0|  0.0|  0.0|null|null| null|null|null|null|null|null|null|null|null|null|     0|\n",
      "| 8035|  A.C. Green|  PF| 22| LAL|  82| 1.0|1542|11.8|0.564|0.015| 0.43|12.4|15.5|  14| 4.2| 1.5| 1.7|17.7|14.7| null|1.4|2.0|3.3|0.103|  null|-0.5| 0.8| 0.3| 0.9| 209| 388|0.539|   1|   6|0.167|208.0|382.0|0.545| 0.54| 102| 167|0.611| 160| 221| 381|  54|  49|  49|  99| 229| 521|  1985|\n",
      "|13034|  A.C. Green|  PF| 33| TOT|  83|73.0|2492|12.4|0.523|0.041|0.407|10.2|20.5|15.3| 4.4| 1.5| 0.5|11.5|11.8| null|2.4|2.4|4.8|0.093|  null|-1.8| 0.7|-1.1| 0.6| 234| 484|0.483|   1|  20| 0.05|233.0|464.0|0.502|0.485| 128| 197| 0.65| 222| 434| 656|  69|  70|  16|  74| 145| 597|  1996|\n",
      "|14139|  A.C. Green|  PF| 35| DAL|  50|35.0| 924|12.5|0.441|0.031|0.203| 9.9|17.8|13.9| 4.5| 1.6| 0.6| 6.4|14.8| null|0.7|0.7|1.4|0.074|  null|-1.9|-0.9|-2.8|-0.2| 108| 256|0.422|   0|   8|    0|108.0|248.0|0.435|0.422|  30|  52|0.577|  82| 146| 228|  25|  28|   8|  19|  69| 246|  1998|\n",
      "|10583|A.J. English|  SG| 24| WSB|  81| 6.0|1665|12.5| 0.48| 0.04|0.208| 4.8| 6.3| 5.5|13.7| 0.9| 0.3| 8.8|25.6| null|0.1|0.7|0.9|0.025|  null|-2.0|-3.4|-5.4|-1.4| 366| 846|0.433|   6|  34|0.176|360.0|812.0|0.443|0.436| 148| 176|0.841|  74|  94| 168| 143|  32|   9|  89| 160| 886|  1991|\n",
      "+-----+------------+----+---+----+----+----+----+----+-----+-----+-----+----+----+----+----+----+----+----+----+-----+---+---+---+-----+------+----+----+----+----+----+----+-----+----+----+-----+-----+-----+-----+-----+----+----+-----+----+----+----+----+----+----+----+----+----+------+\n",
      "only showing top 5 rows\n",
      "\n"
     ]
    }
   ],
   "source": [
    "# Transform the Seson from Double to Integer\n",
    "integer_df = filled_df.withColumn(\"Season\", filled_df[\"Season\"].cast(\"integer\"))\n",
    "integer_df.show(5)"
   ]
  },
  {
   "cell_type": "markdown",
   "id": "16364513-d8d8-45ad-bfb9-f717afdfe3f2",
   "metadata": {},
   "source": [
    "### Special Case"
   ]
  },
  {
   "cell_type": "code",
   "execution_count": 11,
   "id": "27457b5d-1429-437d-abf2-2be3ba9f825f",
   "metadata": {
    "tags": []
   },
   "outputs": [],
   "source": [
    "# Renaming Michael Jordan* from Michael Jordan\n",
    "mj_renaming_df = integer_df.withColumn('Full_Name', F.when(col('Full_Name') == 'Michael Jordan*', 'Michael Jordan').otherwise(col('Full_Name')))"
   ]
  },
  {
   "cell_type": "code",
   "execution_count": 12,
   "id": "2ae619c7-e116-4f76-995f-d4ce6a6080f0",
   "metadata": {
    "tags": []
   },
   "outputs": [
    {
     "name": "stdout",
     "output_type": "stream",
     "text": [
      "+-----+------+------------+----+---+----+----+----+----+----+-----+-----+-----+----+----+----+----+----+----+----+----+-----+---+---+---+-----+------+----+----+----+----+----+----+-----+----+----+-----+-----+-----+-----+-----+----+----+-----+----+----+----+----+----+----+----+----+----+\n",
      "|  _c0|Season|   Full_Name| Pos|Age|  Tm|   G|  GS|  MP| PER|  TS%| 3PAr|  FTr|ORB%|DRB%|TRB%|AST%|STL%|BLK%|TOV%|USG%|blanl|OWS|DWS| WS|WS/48|blank2|OBPM|DBPM| BPM|VORP|  FG| FGA|  FG%|  3P| 3PA|  3P%|   2P|  2PA|  2P%| eFG%|  FT| FTA|  FT%| ORB| DRB| TRB| AST| STL| BLK| TOV|  PF| PTS|\n",
      "+-----+------+------------+----+---+----+----+----+----+----+-----+-----+-----+----+----+----+----+----+----+----+----+-----+---+---+---+-----+------+----+----+----+----+----+----+-----+----+----+-----+-----+-----+-----+-----+----+----+-----+----+----+----+----+----+----+----+----+----+\n",
      "|  312|     0|        null|null|  0|null|null| 0.0|null| 0.0|  0.0| null|  0.0|null|null|null|null|null|null|null| 0.0| null|0.0|0.0|0.0| null|  null| 0.0| 0.0|null|null|null|null| null|null|null| null|  0.0|  0.0|  0.0|  0.0|null|null| null|null|null|null|null|null|null|null|null|null|\n",
      "| 8035|  1985|  A.C. Green|  PF| 22| LAL|  82| 1.0|1542|11.8|0.564|0.015| 0.43|12.4|15.5|  14| 4.2| 1.5| 1.7|17.7|14.7| null|1.4|2.0|3.3|0.103|  null|-0.5| 0.8| 0.3| 0.9| 209| 388|0.539|   1|   6|0.167|208.0|382.0|0.545| 0.54| 102| 167|0.611| 160| 221| 381|  54|  49|  49|  99| 229| 521|\n",
      "|13034|  1996|  A.C. Green|  PF| 33| TOT|  83|73.0|2492|12.4|0.523|0.041|0.407|10.2|20.5|15.3| 4.4| 1.5| 0.5|11.5|11.8| null|2.4|2.4|4.8|0.093|  null|-1.8| 0.7|-1.1| 0.6| 234| 484|0.483|   1|  20| 0.05|233.0|464.0|0.502|0.485| 128| 197| 0.65| 222| 434| 656|  69|  70|  16|  74| 145| 597|\n",
      "|14139|  1998|  A.C. Green|  PF| 35| DAL|  50|35.0| 924|12.5|0.441|0.031|0.203| 9.9|17.8|13.9| 4.5| 1.6| 0.6| 6.4|14.8| null|0.7|0.7|1.4|0.074|  null|-1.9|-0.9|-2.8|-0.2| 108| 256|0.422|   0|   8|    0|108.0|248.0|0.435|0.422|  30|  52|0.577|  82| 146| 228|  25|  28|   8|  19|  69| 246|\n",
      "|10583|  1991|A.J. English|  SG| 24| WSB|  81| 6.0|1665|12.5| 0.48| 0.04|0.208| 4.8| 6.3| 5.5|13.7| 0.9| 0.3| 8.8|25.6| null|0.1|0.7|0.9|0.025|  null|-2.0|-3.4|-5.4|-1.4| 366| 846|0.433|   6|  34|0.176|360.0|812.0|0.443|0.436| 148| 176|0.841|  74|  94| 168| 143|  32|   9|  89| 160| 886|\n",
      "+-----+------+------------+----+---+----+----+----+----+----+-----+-----+-----+----+----+----+----+----+----+----+----+-----+---+---+---+-----+------+----+----+----+----+----+----+-----+----+----+-----+-----+-----+-----+-----+----+----+-----+----+----+----+----+----+----+----+----+----+\n",
      "only showing top 5 rows\n",
      "\n"
     ]
    }
   ],
   "source": [
    "# Put season on the 2nd place\n",
    "reordered_df = mj_renaming_df.withColumn(\"Season\", col(\"Season\").cast(\"integer\")) \\\n",
    "                         .select(integer_df.columns[0], \"Season\", *integer_df.columns[1:-1])\n",
    "reordered_df.show(5)"
   ]
  },
  {
   "cell_type": "markdown",
   "id": "8e038d2e-0e50-4932-a30d-0e018fda07e7",
   "metadata": {},
   "source": [
    "### Further Type Casting"
   ]
  },
  {
   "cell_type": "code",
   "execution_count": 13,
   "id": "a5f78182-9fd9-4756-a25e-7f9b0afeda37",
   "metadata": {},
   "outputs": [],
   "source": [
    "# Convert the \"Season\" column to integer type\n",
    "reordered_df = reordered_df.withColumn(\"Season\", reordered_df[\"Season\"].cast(\"integer\"))"
   ]
  },
  {
   "cell_type": "markdown",
   "id": "21822df2-27db-4f2a-aea7-29f2a9c95632",
   "metadata": {},
   "source": [
    "## Upload Cleaned Data to MongoDB Collection"
   ]
  },
  {
   "cell_type": "code",
   "execution_count": 14,
   "id": "cbdffdad-add8-4218-8d17-9b28c28fcc74",
   "metadata": {
    "tags": []
   },
   "outputs": [],
   "source": [
    "years_seasons=[1995, 1996, 1997, 2005, 2006, 2007, 2011, 2012, 2013]"
   ]
  },
  {
   "cell_type": "code",
   "execution_count": 15,
   "id": "7ca74ae4-347a-4d60-9436-57cae877e5a1",
   "metadata": {},
   "outputs": [],
   "source": [
    "# Select the desired columns from the reordered DataFrame\n",
    "selected_columns = ['Full_Name','Season', 'Pos', 'GS', 'PER', 'TS%',\n",
    "                    'FTr', 'USG%', 'OWS', 'DWS',\n",
    "                    'WS', 'OBPM', 'DBPM', '2P',\n",
    "                    '2PA', '2P%', 'eFG%']\n",
    "selected_df = reordered_df.select(selected_columns)\n",
    "\n",
    "# Filter the data based on the desired years/seasons\n",
    "filtered_data = selected_df.filter(selected_df[\"Season\"].isin(years_seasons))\n",
    "\n",
    "# Convert the Spark DataFrame to a pandas DataFrame\n",
    "pandas_df = filtered_data.toPandas()"
   ]
  },
  {
   "cell_type": "markdown",
   "id": "5465eec3-995d-4bf5-b273-e96d4ce48b27",
   "metadata": {},
   "source": [
    "### Connect to MongoDB"
   ]
  },
  {
   "cell_type": "code",
   "execution_count": null,
   "id": "e7ea92f2-9688-4d6f-b15a-5bea57a51864",
   "metadata": {
    "tags": []
   },
   "outputs": [],
   "source": [
    "# Upload data to MongoDB\n",
    "client = mdb.MongoClient(\"mongodb://pt-n20.p4001.w3.cs.technikum-wien.at:4001\")\n",
    "db = client[\"nba_data\"]\n",
    "collection = db[\"season_stats_csv\"]"
   ]
  },
  {
   "cell_type": "markdown",
   "id": "c82fad8e-a685-4eac-bdeb-19c9d978d336",
   "metadata": {},
   "source": [
    "### Insert Records into MongoDB Collection"
   ]
  },
  {
   "cell_type": "code",
   "execution_count": null,
   "id": "f5507382-a83a-4529-ba75-c0af80b16942",
   "metadata": {},
   "outputs": [],
   "source": [
    "#collection.insert_many(pandas_df.to_dict(\"records\"))\n",
    "print(\"Data uploaded to MongoDB successfully.\")"
   ]
  },
  {
   "cell_type": "markdown",
   "id": "f8f80455-9817-43b3-b0a7-f73f65e6c542",
   "metadata": {},
   "source": [
    "### Close Connection"
   ]
  },
  {
   "cell_type": "code",
   "execution_count": null,
   "id": "07f6fd28-917d-4b9d-8309-cbdfe1d2e5d8",
   "metadata": {
    "tags": []
   },
   "outputs": [],
   "source": [
    "client.close()"
   ]
  },
  {
   "cell_type": "code",
   "execution_count": null,
   "id": "c69a09e1-bd7c-4d5d-beb8-eb75a57a5ae6",
   "metadata": {
    "tags": []
   },
   "outputs": [],
   "source": [
    "spark.stop()"
   ]
  },
  {
   "cell_type": "code",
   "execution_count": null,
   "id": "1d00207a-0df6-4cf3-be8f-3412e2beeb8d",
   "metadata": {},
   "outputs": [],
   "source": []
  }
 ],
 "metadata": {
  "kernelspec": {
   "display_name": "Python 3 (ipykernel)",
   "language": "python",
   "name": "python3"
  },
  "language_info": {
   "codemirror_mode": {
    "name": "ipython",
    "version": 3
   },
   "file_extension": ".py",
   "mimetype": "text/x-python",
   "name": "python",
   "nbconvert_exporter": "python",
   "pygments_lexer": "ipython3",
   "version": "3.10.10"
  }
 },
 "nbformat": 4,
 "nbformat_minor": 5
}
